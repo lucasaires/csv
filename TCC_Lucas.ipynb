{
  "nbformat": 4,
  "nbformat_minor": 0,
  "metadata": {
    "colab": {
      "name": "TCC - Lucas ",
      "provenance": [],
      "collapsed_sections": [],
      "include_colab_link": true
    },
    "kernelspec": {
      "name": "python3",
      "display_name": "Python 3"
    },
    "language_info": {
      "name": "python"
    }
  },
  "cells": [
    {
      "cell_type": "markdown",
      "metadata": {
        "id": "view-in-github",
        "colab_type": "text"
      },
      "source": [
        "<a href=\"https://colab.research.google.com/github/lucasaires/csv/blob/codigo/TCC_Lucas.ipynb\" target=\"_parent\"><img src=\"https://colab.research.google.com/assets/colab-badge.svg\" alt=\"Open In Colab\"/></a>"
      ]
    },
    {
      "cell_type": "code",
      "execution_count": null,
      "metadata": {
        "id": "tNXVIeTDg6c5"
      },
      "outputs": [],
      "source": [
        "import pandas as pd\n",
        "import numpy as np\n",
        "import matplotlib.pyplot as plt"
      ]
    },
    {
      "cell_type": "markdown",
      "source": [
        "## Importando dados\n",
        "\n",
        "\n"
      ],
      "metadata": {
        "id": "mjcvQV6PhiZa"
      }
    },
    {
      "cell_type": "code",
      "source": [
        "df = pd.read_csv('https://raw.githubusercontent.com/lucasaires/csv/master/Gala99c2b0e7-be6e-48b5-af96-4989bf24d3fc.csv')\n",
        "df\n"
      ],
      "metadata": {
        "colab": {
          "base_uri": "https://localhost:8080/",
          "height": 852
        },
        "id": "9RK8nsIBhdp8",
        "outputId": "0a237aaa-7d11-48b0-eb57-010ec32f345c"
      },
      "execution_count": null,
      "outputs": [
        {
          "output_type": "execute_result",
          "data": {
            "text/plain": [
              "         symbol interval             openTime     open   openLongTime  \\\n",
              "0      GALAUSDT      15m  13-09-2021 03:00:00  0.02103  1631512800000   \n",
              "1      GALAUSDT      15m  13-09-2021 03:15:00  0.06211  1631513700000   \n",
              "2      GALAUSDT      15m  13-09-2021 03:30:00  0.05732  1631514600000   \n",
              "3      GALAUSDT      15m  13-09-2021 03:45:00  0.06010  1631515500000   \n",
              "4      GALAUSDT      15m  13-09-2021 04:00:00  0.06577  1631516400000   \n",
              "...         ...      ...                  ...      ...            ...   \n",
              "20327  GALAUSDT      15m  12-04-2022 22:45:00  0.20087  1649814300000   \n",
              "20328  GALAUSDT      15m  12-04-2022 23:00:00  0.20167  1649815200000   \n",
              "20329  GALAUSDT      15m  12-04-2022 23:15:00  0.20053  1649816100000   \n",
              "20330  GALAUSDT      15m  12-04-2022 23:30:00  0.20027  1649817000000   \n",
              "20331  GALAUSDT      15m  12-04-2022 23:45:00  0.20190  1649817900000   \n",
              "\n",
              "          high      low    close       volume            closeTime  ...  trix  \\\n",
              "0      0.07805  0.02103  0.06210  718072847.0  13-09-2021 03:14:59  ...   NaN   \n",
              "1      0.06300  0.05263  0.05729  271757398.0  13-09-2021 03:29:59  ...   NaN   \n",
              "2      0.06066  0.05532  0.06011  140632167.0  13-09-2021 03:44:59  ...   NaN   \n",
              "3      0.06884  0.05676  0.06577  301235982.0  13-09-2021 03:59:59  ...   NaN   \n",
              "4      0.07707  0.06562  0.07577  474279842.0  13-09-2021 04:14:59  ...   NaN   \n",
              "...        ...      ...      ...          ...                  ...  ...   ...   \n",
              "20327  0.20174  0.20022  0.20170    2027467.0  12-04-2022 22:59:59  ...   NaN   \n",
              "20328  0.20193  0.20044  0.20052    2628167.0  12-04-2022 23:14:59  ...   NaN   \n",
              "20329  0.20070  0.19970  0.20026    1693040.0  12-04-2022 23:29:59  ...   NaN   \n",
              "20330  0.20246  0.20022  0.20191    2819949.0  12-04-2022 23:44:59  ...   NaN   \n",
              "20331  0.20190  0.20119  0.20122     187039.0  12-04-2022 23:59:59  ...   NaN   \n",
              "\n",
              "       typicalPrice      vwap       ema       wma    williamsR  \\\n",
              "0               NaN  0.100100       NaN       NaN          NaN   \n",
              "1               NaN  0.101678       NaN       NaN          NaN   \n",
              "2               NaN  0.102142       NaN       NaN          NaN   \n",
              "3               NaN  0.103524       NaN       NaN          NaN   \n",
              "4               NaN  0.106329       NaN       NaN          NaN   \n",
              "...             ...       ...       ...       ...          ...   \n",
              "20327           NaN  0.243746  0.067709  0.068820 -2010.284810   \n",
              "20328           NaN  0.243745  0.067321  0.068610 -2168.512658   \n",
              "20329           NaN  0.243745  0.065879  0.067202 -3365.801887   \n",
              "20330           NaN  0.243744  0.064161  0.065353 -3515.217391   \n",
              "20331           NaN  0.243744  0.063749  0.064595 -3399.033816   \n",
              "\n",
              "       ichimokuClound-conversion  ichimokuClound-base  ichimokuClound-spanA  \\\n",
              "0                            NaN                  NaN                   NaN   \n",
              "1                            NaN                  NaN                   NaN   \n",
              "2                            NaN                  NaN                   NaN   \n",
              "3                            NaN                  NaN                   NaN   \n",
              "4                            NaN                  NaN                   NaN   \n",
              "...                          ...                  ...                   ...   \n",
              "20327                    0.20070              0.19894              0.199820   \n",
              "20328                    0.20049              0.19894              0.199715   \n",
              "20329                    0.20049              0.19894              0.199715   \n",
              "20330                    0.20057              0.19948              0.200025   \n",
              "20331                    0.20057              0.19948              0.200025   \n",
              "\n",
              "       ichimokuClound-spanB  \n",
              "0                       NaN  \n",
              "1                       NaN  \n",
              "2                       NaN  \n",
              "3                       NaN  \n",
              "4                       NaN  \n",
              "...                     ...  \n",
              "20327              0.200865  \n",
              "20328              0.200645  \n",
              "20329              0.200435  \n",
              "20330              0.199740  \n",
              "20331              0.199460  \n",
              "\n",
              "[20332 rows x 47 columns]"
            ],
            "text/html": [
              "\n",
              "  <div id=\"df-466c975d-9d24-444e-893a-98ad523874d4\">\n",
              "    <div class=\"colab-df-container\">\n",
              "      <div>\n",
              "<style scoped>\n",
              "    .dataframe tbody tr th:only-of-type {\n",
              "        vertical-align: middle;\n",
              "    }\n",
              "\n",
              "    .dataframe tbody tr th {\n",
              "        vertical-align: top;\n",
              "    }\n",
              "\n",
              "    .dataframe thead th {\n",
              "        text-align: right;\n",
              "    }\n",
              "</style>\n",
              "<table border=\"1\" class=\"dataframe\">\n",
              "  <thead>\n",
              "    <tr style=\"text-align: right;\">\n",
              "      <th></th>\n",
              "      <th>symbol</th>\n",
              "      <th>interval</th>\n",
              "      <th>openTime</th>\n",
              "      <th>open</th>\n",
              "      <th>openLongTime</th>\n",
              "      <th>high</th>\n",
              "      <th>low</th>\n",
              "      <th>close</th>\n",
              "      <th>volume</th>\n",
              "      <th>closeTime</th>\n",
              "      <th>...</th>\n",
              "      <th>trix</th>\n",
              "      <th>typicalPrice</th>\n",
              "      <th>vwap</th>\n",
              "      <th>ema</th>\n",
              "      <th>wma</th>\n",
              "      <th>williamsR</th>\n",
              "      <th>ichimokuClound-conversion</th>\n",
              "      <th>ichimokuClound-base</th>\n",
              "      <th>ichimokuClound-spanA</th>\n",
              "      <th>ichimokuClound-spanB</th>\n",
              "    </tr>\n",
              "  </thead>\n",
              "  <tbody>\n",
              "    <tr>\n",
              "      <th>0</th>\n",
              "      <td>GALAUSDT</td>\n",
              "      <td>15m</td>\n",
              "      <td>13-09-2021 03:00:00</td>\n",
              "      <td>0.02103</td>\n",
              "      <td>1631512800000</td>\n",
              "      <td>0.07805</td>\n",
              "      <td>0.02103</td>\n",
              "      <td>0.06210</td>\n",
              "      <td>718072847.0</td>\n",
              "      <td>13-09-2021 03:14:59</td>\n",
              "      <td>...</td>\n",
              "      <td>NaN</td>\n",
              "      <td>NaN</td>\n",
              "      <td>0.100100</td>\n",
              "      <td>NaN</td>\n",
              "      <td>NaN</td>\n",
              "      <td>NaN</td>\n",
              "      <td>NaN</td>\n",
              "      <td>NaN</td>\n",
              "      <td>NaN</td>\n",
              "      <td>NaN</td>\n",
              "    </tr>\n",
              "    <tr>\n",
              "      <th>1</th>\n",
              "      <td>GALAUSDT</td>\n",
              "      <td>15m</td>\n",
              "      <td>13-09-2021 03:15:00</td>\n",
              "      <td>0.06211</td>\n",
              "      <td>1631513700000</td>\n",
              "      <td>0.06300</td>\n",
              "      <td>0.05263</td>\n",
              "      <td>0.05729</td>\n",
              "      <td>271757398.0</td>\n",
              "      <td>13-09-2021 03:29:59</td>\n",
              "      <td>...</td>\n",
              "      <td>NaN</td>\n",
              "      <td>NaN</td>\n",
              "      <td>0.101678</td>\n",
              "      <td>NaN</td>\n",
              "      <td>NaN</td>\n",
              "      <td>NaN</td>\n",
              "      <td>NaN</td>\n",
              "      <td>NaN</td>\n",
              "      <td>NaN</td>\n",
              "      <td>NaN</td>\n",
              "    </tr>\n",
              "    <tr>\n",
              "      <th>2</th>\n",
              "      <td>GALAUSDT</td>\n",
              "      <td>15m</td>\n",
              "      <td>13-09-2021 03:30:00</td>\n",
              "      <td>0.05732</td>\n",
              "      <td>1631514600000</td>\n",
              "      <td>0.06066</td>\n",
              "      <td>0.05532</td>\n",
              "      <td>0.06011</td>\n",
              "      <td>140632167.0</td>\n",
              "      <td>13-09-2021 03:44:59</td>\n",
              "      <td>...</td>\n",
              "      <td>NaN</td>\n",
              "      <td>NaN</td>\n",
              "      <td>0.102142</td>\n",
              "      <td>NaN</td>\n",
              "      <td>NaN</td>\n",
              "      <td>NaN</td>\n",
              "      <td>NaN</td>\n",
              "      <td>NaN</td>\n",
              "      <td>NaN</td>\n",
              "      <td>NaN</td>\n",
              "    </tr>\n",
              "    <tr>\n",
              "      <th>3</th>\n",
              "      <td>GALAUSDT</td>\n",
              "      <td>15m</td>\n",
              "      <td>13-09-2021 03:45:00</td>\n",
              "      <td>0.06010</td>\n",
              "      <td>1631515500000</td>\n",
              "      <td>0.06884</td>\n",
              "      <td>0.05676</td>\n",
              "      <td>0.06577</td>\n",
              "      <td>301235982.0</td>\n",
              "      <td>13-09-2021 03:59:59</td>\n",
              "      <td>...</td>\n",
              "      <td>NaN</td>\n",
              "      <td>NaN</td>\n",
              "      <td>0.103524</td>\n",
              "      <td>NaN</td>\n",
              "      <td>NaN</td>\n",
              "      <td>NaN</td>\n",
              "      <td>NaN</td>\n",
              "      <td>NaN</td>\n",
              "      <td>NaN</td>\n",
              "      <td>NaN</td>\n",
              "    </tr>\n",
              "    <tr>\n",
              "      <th>4</th>\n",
              "      <td>GALAUSDT</td>\n",
              "      <td>15m</td>\n",
              "      <td>13-09-2021 04:00:00</td>\n",
              "      <td>0.06577</td>\n",
              "      <td>1631516400000</td>\n",
              "      <td>0.07707</td>\n",
              "      <td>0.06562</td>\n",
              "      <td>0.07577</td>\n",
              "      <td>474279842.0</td>\n",
              "      <td>13-09-2021 04:14:59</td>\n",
              "      <td>...</td>\n",
              "      <td>NaN</td>\n",
              "      <td>NaN</td>\n",
              "      <td>0.106329</td>\n",
              "      <td>NaN</td>\n",
              "      <td>NaN</td>\n",
              "      <td>NaN</td>\n",
              "      <td>NaN</td>\n",
              "      <td>NaN</td>\n",
              "      <td>NaN</td>\n",
              "      <td>NaN</td>\n",
              "    </tr>\n",
              "    <tr>\n",
              "      <th>...</th>\n",
              "      <td>...</td>\n",
              "      <td>...</td>\n",
              "      <td>...</td>\n",
              "      <td>...</td>\n",
              "      <td>...</td>\n",
              "      <td>...</td>\n",
              "      <td>...</td>\n",
              "      <td>...</td>\n",
              "      <td>...</td>\n",
              "      <td>...</td>\n",
              "      <td>...</td>\n",
              "      <td>...</td>\n",
              "      <td>...</td>\n",
              "      <td>...</td>\n",
              "      <td>...</td>\n",
              "      <td>...</td>\n",
              "      <td>...</td>\n",
              "      <td>...</td>\n",
              "      <td>...</td>\n",
              "      <td>...</td>\n",
              "      <td>...</td>\n",
              "    </tr>\n",
              "    <tr>\n",
              "      <th>20327</th>\n",
              "      <td>GALAUSDT</td>\n",
              "      <td>15m</td>\n",
              "      <td>12-04-2022 22:45:00</td>\n",
              "      <td>0.20087</td>\n",
              "      <td>1649814300000</td>\n",
              "      <td>0.20174</td>\n",
              "      <td>0.20022</td>\n",
              "      <td>0.20170</td>\n",
              "      <td>2027467.0</td>\n",
              "      <td>12-04-2022 22:59:59</td>\n",
              "      <td>...</td>\n",
              "      <td>NaN</td>\n",
              "      <td>NaN</td>\n",
              "      <td>0.243746</td>\n",
              "      <td>0.067709</td>\n",
              "      <td>0.068820</td>\n",
              "      <td>-2010.284810</td>\n",
              "      <td>0.20070</td>\n",
              "      <td>0.19894</td>\n",
              "      <td>0.199820</td>\n",
              "      <td>0.200865</td>\n",
              "    </tr>\n",
              "    <tr>\n",
              "      <th>20328</th>\n",
              "      <td>GALAUSDT</td>\n",
              "      <td>15m</td>\n",
              "      <td>12-04-2022 23:00:00</td>\n",
              "      <td>0.20167</td>\n",
              "      <td>1649815200000</td>\n",
              "      <td>0.20193</td>\n",
              "      <td>0.20044</td>\n",
              "      <td>0.20052</td>\n",
              "      <td>2628167.0</td>\n",
              "      <td>12-04-2022 23:14:59</td>\n",
              "      <td>...</td>\n",
              "      <td>NaN</td>\n",
              "      <td>NaN</td>\n",
              "      <td>0.243745</td>\n",
              "      <td>0.067321</td>\n",
              "      <td>0.068610</td>\n",
              "      <td>-2168.512658</td>\n",
              "      <td>0.20049</td>\n",
              "      <td>0.19894</td>\n",
              "      <td>0.199715</td>\n",
              "      <td>0.200645</td>\n",
              "    </tr>\n",
              "    <tr>\n",
              "      <th>20329</th>\n",
              "      <td>GALAUSDT</td>\n",
              "      <td>15m</td>\n",
              "      <td>12-04-2022 23:15:00</td>\n",
              "      <td>0.20053</td>\n",
              "      <td>1649816100000</td>\n",
              "      <td>0.20070</td>\n",
              "      <td>0.19970</td>\n",
              "      <td>0.20026</td>\n",
              "      <td>1693040.0</td>\n",
              "      <td>12-04-2022 23:29:59</td>\n",
              "      <td>...</td>\n",
              "      <td>NaN</td>\n",
              "      <td>NaN</td>\n",
              "      <td>0.243745</td>\n",
              "      <td>0.065879</td>\n",
              "      <td>0.067202</td>\n",
              "      <td>-3365.801887</td>\n",
              "      <td>0.20049</td>\n",
              "      <td>0.19894</td>\n",
              "      <td>0.199715</td>\n",
              "      <td>0.200435</td>\n",
              "    </tr>\n",
              "    <tr>\n",
              "      <th>20330</th>\n",
              "      <td>GALAUSDT</td>\n",
              "      <td>15m</td>\n",
              "      <td>12-04-2022 23:30:00</td>\n",
              "      <td>0.20027</td>\n",
              "      <td>1649817000000</td>\n",
              "      <td>0.20246</td>\n",
              "      <td>0.20022</td>\n",
              "      <td>0.20191</td>\n",
              "      <td>2819949.0</td>\n",
              "      <td>12-04-2022 23:44:59</td>\n",
              "      <td>...</td>\n",
              "      <td>NaN</td>\n",
              "      <td>NaN</td>\n",
              "      <td>0.243744</td>\n",
              "      <td>0.064161</td>\n",
              "      <td>0.065353</td>\n",
              "      <td>-3515.217391</td>\n",
              "      <td>0.20057</td>\n",
              "      <td>0.19948</td>\n",
              "      <td>0.200025</td>\n",
              "      <td>0.199740</td>\n",
              "    </tr>\n",
              "    <tr>\n",
              "      <th>20331</th>\n",
              "      <td>GALAUSDT</td>\n",
              "      <td>15m</td>\n",
              "      <td>12-04-2022 23:45:00</td>\n",
              "      <td>0.20190</td>\n",
              "      <td>1649817900000</td>\n",
              "      <td>0.20190</td>\n",
              "      <td>0.20119</td>\n",
              "      <td>0.20122</td>\n",
              "      <td>187039.0</td>\n",
              "      <td>12-04-2022 23:59:59</td>\n",
              "      <td>...</td>\n",
              "      <td>NaN</td>\n",
              "      <td>NaN</td>\n",
              "      <td>0.243744</td>\n",
              "      <td>0.063749</td>\n",
              "      <td>0.064595</td>\n",
              "      <td>-3399.033816</td>\n",
              "      <td>0.20057</td>\n",
              "      <td>0.19948</td>\n",
              "      <td>0.200025</td>\n",
              "      <td>0.199460</td>\n",
              "    </tr>\n",
              "  </tbody>\n",
              "</table>\n",
              "<p>20332 rows × 47 columns</p>\n",
              "</div>\n",
              "      <button class=\"colab-df-convert\" onclick=\"convertToInteractive('df-466c975d-9d24-444e-893a-98ad523874d4')\"\n",
              "              title=\"Convert this dataframe to an interactive table.\"\n",
              "              style=\"display:none;\">\n",
              "        \n",
              "  <svg xmlns=\"http://www.w3.org/2000/svg\" height=\"24px\"viewBox=\"0 0 24 24\"\n",
              "       width=\"24px\">\n",
              "    <path d=\"M0 0h24v24H0V0z\" fill=\"none\"/>\n",
              "    <path d=\"M18.56 5.44l.94 2.06.94-2.06 2.06-.94-2.06-.94-.94-2.06-.94 2.06-2.06.94zm-11 1L8.5 8.5l.94-2.06 2.06-.94-2.06-.94L8.5 2.5l-.94 2.06-2.06.94zm10 10l.94 2.06.94-2.06 2.06-.94-2.06-.94-.94-2.06-.94 2.06-2.06.94z\"/><path d=\"M17.41 7.96l-1.37-1.37c-.4-.4-.92-.59-1.43-.59-.52 0-1.04.2-1.43.59L10.3 9.45l-7.72 7.72c-.78.78-.78 2.05 0 2.83L4 21.41c.39.39.9.59 1.41.59.51 0 1.02-.2 1.41-.59l7.78-7.78 2.81-2.81c.8-.78.8-2.07 0-2.86zM5.41 20L4 18.59l7.72-7.72 1.47 1.35L5.41 20z\"/>\n",
              "  </svg>\n",
              "      </button>\n",
              "      \n",
              "  <style>\n",
              "    .colab-df-container {\n",
              "      display:flex;\n",
              "      flex-wrap:wrap;\n",
              "      gap: 12px;\n",
              "    }\n",
              "\n",
              "    .colab-df-convert {\n",
              "      background-color: #E8F0FE;\n",
              "      border: none;\n",
              "      border-radius: 50%;\n",
              "      cursor: pointer;\n",
              "      display: none;\n",
              "      fill: #1967D2;\n",
              "      height: 32px;\n",
              "      padding: 0 0 0 0;\n",
              "      width: 32px;\n",
              "    }\n",
              "\n",
              "    .colab-df-convert:hover {\n",
              "      background-color: #E2EBFA;\n",
              "      box-shadow: 0px 1px 2px rgba(60, 64, 67, 0.3), 0px 1px 3px 1px rgba(60, 64, 67, 0.15);\n",
              "      fill: #174EA6;\n",
              "    }\n",
              "\n",
              "    [theme=dark] .colab-df-convert {\n",
              "      background-color: #3B4455;\n",
              "      fill: #D2E3FC;\n",
              "    }\n",
              "\n",
              "    [theme=dark] .colab-df-convert:hover {\n",
              "      background-color: #434B5C;\n",
              "      box-shadow: 0px 1px 3px 1px rgba(0, 0, 0, 0.15);\n",
              "      filter: drop-shadow(0px 1px 2px rgba(0, 0, 0, 0.3));\n",
              "      fill: #FFFFFF;\n",
              "    }\n",
              "  </style>\n",
              "\n",
              "      <script>\n",
              "        const buttonEl =\n",
              "          document.querySelector('#df-466c975d-9d24-444e-893a-98ad523874d4 button.colab-df-convert');\n",
              "        buttonEl.style.display =\n",
              "          google.colab.kernel.accessAllowed ? 'block' : 'none';\n",
              "\n",
              "        async function convertToInteractive(key) {\n",
              "          const element = document.querySelector('#df-466c975d-9d24-444e-893a-98ad523874d4');\n",
              "          const dataTable =\n",
              "            await google.colab.kernel.invokeFunction('convertToInteractive',\n",
              "                                                     [key], {});\n",
              "          if (!dataTable) return;\n",
              "\n",
              "          const docLinkHtml = 'Like what you see? Visit the ' +\n",
              "            '<a target=\"_blank\" href=https://colab.research.google.com/notebooks/data_table.ipynb>data table notebook</a>'\n",
              "            + ' to learn more about interactive tables.';\n",
              "          element.innerHTML = '';\n",
              "          dataTable['output_type'] = 'display_data';\n",
              "          await google.colab.output.renderOutput(dataTable, element);\n",
              "          const docLink = document.createElement('div');\n",
              "          docLink.innerHTML = docLinkHtml;\n",
              "          element.appendChild(docLink);\n",
              "        }\n",
              "      </script>\n",
              "    </div>\n",
              "  </div>\n",
              "  "
            ]
          },
          "metadata": {},
          "execution_count": 2
        }
      ]
    },
    {
      "cell_type": "markdown",
      "source": [
        "Ordenando dados por tempo\n"
      ],
      "metadata": {
        "id": "ZnpjvSh_ItpW"
      }
    },
    {
      "cell_type": "code",
      "source": [
        "df = df.sort_values(by=['openLongTime'])\n",
        "df"
      ],
      "metadata": {
        "colab": {
          "base_uri": "https://localhost:8080/",
          "height": 852
        },
        "id": "D35vprDMIxzH",
        "outputId": "21c236e3-732d-4a5a-9120-eb92a1129298"
      },
      "execution_count": null,
      "outputs": [
        {
          "output_type": "execute_result",
          "data": {
            "text/plain": [
              "         symbol interval             openTime     open   openLongTime  \\\n",
              "0      GALAUSDT      15m  13-09-2021 03:00:00  0.02103  1631512800000   \n",
              "1      GALAUSDT      15m  13-09-2021 03:15:00  0.06211  1631513700000   \n",
              "2      GALAUSDT      15m  13-09-2021 03:30:00  0.05732  1631514600000   \n",
              "3      GALAUSDT      15m  13-09-2021 03:45:00  0.06010  1631515500000   \n",
              "4      GALAUSDT      15m  13-09-2021 04:00:00  0.06577  1631516400000   \n",
              "...         ...      ...                  ...      ...            ...   \n",
              "20327  GALAUSDT      15m  12-04-2022 22:45:00  0.20087  1649814300000   \n",
              "20328  GALAUSDT      15m  12-04-2022 23:00:00  0.20167  1649815200000   \n",
              "20329  GALAUSDT      15m  12-04-2022 23:15:00  0.20053  1649816100000   \n",
              "20330  GALAUSDT      15m  12-04-2022 23:30:00  0.20027  1649817000000   \n",
              "20331  GALAUSDT      15m  12-04-2022 23:45:00  0.20190  1649817900000   \n",
              "\n",
              "          high      low    close       volume            closeTime  ...  trix  \\\n",
              "0      0.07805  0.02103  0.06210  718072847.0  13-09-2021 03:14:59  ...   NaN   \n",
              "1      0.06300  0.05263  0.05729  271757398.0  13-09-2021 03:29:59  ...   NaN   \n",
              "2      0.06066  0.05532  0.06011  140632167.0  13-09-2021 03:44:59  ...   NaN   \n",
              "3      0.06884  0.05676  0.06577  301235982.0  13-09-2021 03:59:59  ...   NaN   \n",
              "4      0.07707  0.06562  0.07577  474279842.0  13-09-2021 04:14:59  ...   NaN   \n",
              "...        ...      ...      ...          ...                  ...  ...   ...   \n",
              "20327  0.20174  0.20022  0.20170    2027467.0  12-04-2022 22:59:59  ...   NaN   \n",
              "20328  0.20193  0.20044  0.20052    2628167.0  12-04-2022 23:14:59  ...   NaN   \n",
              "20329  0.20070  0.19970  0.20026    1693040.0  12-04-2022 23:29:59  ...   NaN   \n",
              "20330  0.20246  0.20022  0.20191    2819949.0  12-04-2022 23:44:59  ...   NaN   \n",
              "20331  0.20190  0.20119  0.20122     187039.0  12-04-2022 23:59:59  ...   NaN   \n",
              "\n",
              "       typicalPrice      vwap       ema       wma    williamsR  \\\n",
              "0               NaN  0.100100       NaN       NaN          NaN   \n",
              "1               NaN  0.101678       NaN       NaN          NaN   \n",
              "2               NaN  0.102142       NaN       NaN          NaN   \n",
              "3               NaN  0.103524       NaN       NaN          NaN   \n",
              "4               NaN  0.106329       NaN       NaN          NaN   \n",
              "...             ...       ...       ...       ...          ...   \n",
              "20327           NaN  0.243746  0.067709  0.068820 -2010.284810   \n",
              "20328           NaN  0.243745  0.067321  0.068610 -2168.512658   \n",
              "20329           NaN  0.243745  0.065879  0.067202 -3365.801887   \n",
              "20330           NaN  0.243744  0.064161  0.065353 -3515.217391   \n",
              "20331           NaN  0.243744  0.063749  0.064595 -3399.033816   \n",
              "\n",
              "       ichimokuClound-conversion  ichimokuClound-base  ichimokuClound-spanA  \\\n",
              "0                            NaN                  NaN                   NaN   \n",
              "1                            NaN                  NaN                   NaN   \n",
              "2                            NaN                  NaN                   NaN   \n",
              "3                            NaN                  NaN                   NaN   \n",
              "4                            NaN                  NaN                   NaN   \n",
              "...                          ...                  ...                   ...   \n",
              "20327                    0.20070              0.19894              0.199820   \n",
              "20328                    0.20049              0.19894              0.199715   \n",
              "20329                    0.20049              0.19894              0.199715   \n",
              "20330                    0.20057              0.19948              0.200025   \n",
              "20331                    0.20057              0.19948              0.200025   \n",
              "\n",
              "       ichimokuClound-spanB  \n",
              "0                       NaN  \n",
              "1                       NaN  \n",
              "2                       NaN  \n",
              "3                       NaN  \n",
              "4                       NaN  \n",
              "...                     ...  \n",
              "20327              0.200865  \n",
              "20328              0.200645  \n",
              "20329              0.200435  \n",
              "20330              0.199740  \n",
              "20331              0.199460  \n",
              "\n",
              "[20332 rows x 47 columns]"
            ],
            "text/html": [
              "\n",
              "  <div id=\"df-0deaeb58-80a2-40ee-beb6-8e2b67876268\">\n",
              "    <div class=\"colab-df-container\">\n",
              "      <div>\n",
              "<style scoped>\n",
              "    .dataframe tbody tr th:only-of-type {\n",
              "        vertical-align: middle;\n",
              "    }\n",
              "\n",
              "    .dataframe tbody tr th {\n",
              "        vertical-align: top;\n",
              "    }\n",
              "\n",
              "    .dataframe thead th {\n",
              "        text-align: right;\n",
              "    }\n",
              "</style>\n",
              "<table border=\"1\" class=\"dataframe\">\n",
              "  <thead>\n",
              "    <tr style=\"text-align: right;\">\n",
              "      <th></th>\n",
              "      <th>symbol</th>\n",
              "      <th>interval</th>\n",
              "      <th>openTime</th>\n",
              "      <th>open</th>\n",
              "      <th>openLongTime</th>\n",
              "      <th>high</th>\n",
              "      <th>low</th>\n",
              "      <th>close</th>\n",
              "      <th>volume</th>\n",
              "      <th>closeTime</th>\n",
              "      <th>...</th>\n",
              "      <th>trix</th>\n",
              "      <th>typicalPrice</th>\n",
              "      <th>vwap</th>\n",
              "      <th>ema</th>\n",
              "      <th>wma</th>\n",
              "      <th>williamsR</th>\n",
              "      <th>ichimokuClound-conversion</th>\n",
              "      <th>ichimokuClound-base</th>\n",
              "      <th>ichimokuClound-spanA</th>\n",
              "      <th>ichimokuClound-spanB</th>\n",
              "    </tr>\n",
              "  </thead>\n",
              "  <tbody>\n",
              "    <tr>\n",
              "      <th>0</th>\n",
              "      <td>GALAUSDT</td>\n",
              "      <td>15m</td>\n",
              "      <td>13-09-2021 03:00:00</td>\n",
              "      <td>0.02103</td>\n",
              "      <td>1631512800000</td>\n",
              "      <td>0.07805</td>\n",
              "      <td>0.02103</td>\n",
              "      <td>0.06210</td>\n",
              "      <td>718072847.0</td>\n",
              "      <td>13-09-2021 03:14:59</td>\n",
              "      <td>...</td>\n",
              "      <td>NaN</td>\n",
              "      <td>NaN</td>\n",
              "      <td>0.100100</td>\n",
              "      <td>NaN</td>\n",
              "      <td>NaN</td>\n",
              "      <td>NaN</td>\n",
              "      <td>NaN</td>\n",
              "      <td>NaN</td>\n",
              "      <td>NaN</td>\n",
              "      <td>NaN</td>\n",
              "    </tr>\n",
              "    <tr>\n",
              "      <th>1</th>\n",
              "      <td>GALAUSDT</td>\n",
              "      <td>15m</td>\n",
              "      <td>13-09-2021 03:15:00</td>\n",
              "      <td>0.06211</td>\n",
              "      <td>1631513700000</td>\n",
              "      <td>0.06300</td>\n",
              "      <td>0.05263</td>\n",
              "      <td>0.05729</td>\n",
              "      <td>271757398.0</td>\n",
              "      <td>13-09-2021 03:29:59</td>\n",
              "      <td>...</td>\n",
              "      <td>NaN</td>\n",
              "      <td>NaN</td>\n",
              "      <td>0.101678</td>\n",
              "      <td>NaN</td>\n",
              "      <td>NaN</td>\n",
              "      <td>NaN</td>\n",
              "      <td>NaN</td>\n",
              "      <td>NaN</td>\n",
              "      <td>NaN</td>\n",
              "      <td>NaN</td>\n",
              "    </tr>\n",
              "    <tr>\n",
              "      <th>2</th>\n",
              "      <td>GALAUSDT</td>\n",
              "      <td>15m</td>\n",
              "      <td>13-09-2021 03:30:00</td>\n",
              "      <td>0.05732</td>\n",
              "      <td>1631514600000</td>\n",
              "      <td>0.06066</td>\n",
              "      <td>0.05532</td>\n",
              "      <td>0.06011</td>\n",
              "      <td>140632167.0</td>\n",
              "      <td>13-09-2021 03:44:59</td>\n",
              "      <td>...</td>\n",
              "      <td>NaN</td>\n",
              "      <td>NaN</td>\n",
              "      <td>0.102142</td>\n",
              "      <td>NaN</td>\n",
              "      <td>NaN</td>\n",
              "      <td>NaN</td>\n",
              "      <td>NaN</td>\n",
              "      <td>NaN</td>\n",
              "      <td>NaN</td>\n",
              "      <td>NaN</td>\n",
              "    </tr>\n",
              "    <tr>\n",
              "      <th>3</th>\n",
              "      <td>GALAUSDT</td>\n",
              "      <td>15m</td>\n",
              "      <td>13-09-2021 03:45:00</td>\n",
              "      <td>0.06010</td>\n",
              "      <td>1631515500000</td>\n",
              "      <td>0.06884</td>\n",
              "      <td>0.05676</td>\n",
              "      <td>0.06577</td>\n",
              "      <td>301235982.0</td>\n",
              "      <td>13-09-2021 03:59:59</td>\n",
              "      <td>...</td>\n",
              "      <td>NaN</td>\n",
              "      <td>NaN</td>\n",
              "      <td>0.103524</td>\n",
              "      <td>NaN</td>\n",
              "      <td>NaN</td>\n",
              "      <td>NaN</td>\n",
              "      <td>NaN</td>\n",
              "      <td>NaN</td>\n",
              "      <td>NaN</td>\n",
              "      <td>NaN</td>\n",
              "    </tr>\n",
              "    <tr>\n",
              "      <th>4</th>\n",
              "      <td>GALAUSDT</td>\n",
              "      <td>15m</td>\n",
              "      <td>13-09-2021 04:00:00</td>\n",
              "      <td>0.06577</td>\n",
              "      <td>1631516400000</td>\n",
              "      <td>0.07707</td>\n",
              "      <td>0.06562</td>\n",
              "      <td>0.07577</td>\n",
              "      <td>474279842.0</td>\n",
              "      <td>13-09-2021 04:14:59</td>\n",
              "      <td>...</td>\n",
              "      <td>NaN</td>\n",
              "      <td>NaN</td>\n",
              "      <td>0.106329</td>\n",
              "      <td>NaN</td>\n",
              "      <td>NaN</td>\n",
              "      <td>NaN</td>\n",
              "      <td>NaN</td>\n",
              "      <td>NaN</td>\n",
              "      <td>NaN</td>\n",
              "      <td>NaN</td>\n",
              "    </tr>\n",
              "    <tr>\n",
              "      <th>...</th>\n",
              "      <td>...</td>\n",
              "      <td>...</td>\n",
              "      <td>...</td>\n",
              "      <td>...</td>\n",
              "      <td>...</td>\n",
              "      <td>...</td>\n",
              "      <td>...</td>\n",
              "      <td>...</td>\n",
              "      <td>...</td>\n",
              "      <td>...</td>\n",
              "      <td>...</td>\n",
              "      <td>...</td>\n",
              "      <td>...</td>\n",
              "      <td>...</td>\n",
              "      <td>...</td>\n",
              "      <td>...</td>\n",
              "      <td>...</td>\n",
              "      <td>...</td>\n",
              "      <td>...</td>\n",
              "      <td>...</td>\n",
              "      <td>...</td>\n",
              "    </tr>\n",
              "    <tr>\n",
              "      <th>20327</th>\n",
              "      <td>GALAUSDT</td>\n",
              "      <td>15m</td>\n",
              "      <td>12-04-2022 22:45:00</td>\n",
              "      <td>0.20087</td>\n",
              "      <td>1649814300000</td>\n",
              "      <td>0.20174</td>\n",
              "      <td>0.20022</td>\n",
              "      <td>0.20170</td>\n",
              "      <td>2027467.0</td>\n",
              "      <td>12-04-2022 22:59:59</td>\n",
              "      <td>...</td>\n",
              "      <td>NaN</td>\n",
              "      <td>NaN</td>\n",
              "      <td>0.243746</td>\n",
              "      <td>0.067709</td>\n",
              "      <td>0.068820</td>\n",
              "      <td>-2010.284810</td>\n",
              "      <td>0.20070</td>\n",
              "      <td>0.19894</td>\n",
              "      <td>0.199820</td>\n",
              "      <td>0.200865</td>\n",
              "    </tr>\n",
              "    <tr>\n",
              "      <th>20328</th>\n",
              "      <td>GALAUSDT</td>\n",
              "      <td>15m</td>\n",
              "      <td>12-04-2022 23:00:00</td>\n",
              "      <td>0.20167</td>\n",
              "      <td>1649815200000</td>\n",
              "      <td>0.20193</td>\n",
              "      <td>0.20044</td>\n",
              "      <td>0.20052</td>\n",
              "      <td>2628167.0</td>\n",
              "      <td>12-04-2022 23:14:59</td>\n",
              "      <td>...</td>\n",
              "      <td>NaN</td>\n",
              "      <td>NaN</td>\n",
              "      <td>0.243745</td>\n",
              "      <td>0.067321</td>\n",
              "      <td>0.068610</td>\n",
              "      <td>-2168.512658</td>\n",
              "      <td>0.20049</td>\n",
              "      <td>0.19894</td>\n",
              "      <td>0.199715</td>\n",
              "      <td>0.200645</td>\n",
              "    </tr>\n",
              "    <tr>\n",
              "      <th>20329</th>\n",
              "      <td>GALAUSDT</td>\n",
              "      <td>15m</td>\n",
              "      <td>12-04-2022 23:15:00</td>\n",
              "      <td>0.20053</td>\n",
              "      <td>1649816100000</td>\n",
              "      <td>0.20070</td>\n",
              "      <td>0.19970</td>\n",
              "      <td>0.20026</td>\n",
              "      <td>1693040.0</td>\n",
              "      <td>12-04-2022 23:29:59</td>\n",
              "      <td>...</td>\n",
              "      <td>NaN</td>\n",
              "      <td>NaN</td>\n",
              "      <td>0.243745</td>\n",
              "      <td>0.065879</td>\n",
              "      <td>0.067202</td>\n",
              "      <td>-3365.801887</td>\n",
              "      <td>0.20049</td>\n",
              "      <td>0.19894</td>\n",
              "      <td>0.199715</td>\n",
              "      <td>0.200435</td>\n",
              "    </tr>\n",
              "    <tr>\n",
              "      <th>20330</th>\n",
              "      <td>GALAUSDT</td>\n",
              "      <td>15m</td>\n",
              "      <td>12-04-2022 23:30:00</td>\n",
              "      <td>0.20027</td>\n",
              "      <td>1649817000000</td>\n",
              "      <td>0.20246</td>\n",
              "      <td>0.20022</td>\n",
              "      <td>0.20191</td>\n",
              "      <td>2819949.0</td>\n",
              "      <td>12-04-2022 23:44:59</td>\n",
              "      <td>...</td>\n",
              "      <td>NaN</td>\n",
              "      <td>NaN</td>\n",
              "      <td>0.243744</td>\n",
              "      <td>0.064161</td>\n",
              "      <td>0.065353</td>\n",
              "      <td>-3515.217391</td>\n",
              "      <td>0.20057</td>\n",
              "      <td>0.19948</td>\n",
              "      <td>0.200025</td>\n",
              "      <td>0.199740</td>\n",
              "    </tr>\n",
              "    <tr>\n",
              "      <th>20331</th>\n",
              "      <td>GALAUSDT</td>\n",
              "      <td>15m</td>\n",
              "      <td>12-04-2022 23:45:00</td>\n",
              "      <td>0.20190</td>\n",
              "      <td>1649817900000</td>\n",
              "      <td>0.20190</td>\n",
              "      <td>0.20119</td>\n",
              "      <td>0.20122</td>\n",
              "      <td>187039.0</td>\n",
              "      <td>12-04-2022 23:59:59</td>\n",
              "      <td>...</td>\n",
              "      <td>NaN</td>\n",
              "      <td>NaN</td>\n",
              "      <td>0.243744</td>\n",
              "      <td>0.063749</td>\n",
              "      <td>0.064595</td>\n",
              "      <td>-3399.033816</td>\n",
              "      <td>0.20057</td>\n",
              "      <td>0.19948</td>\n",
              "      <td>0.200025</td>\n",
              "      <td>0.199460</td>\n",
              "    </tr>\n",
              "  </tbody>\n",
              "</table>\n",
              "<p>20332 rows × 47 columns</p>\n",
              "</div>\n",
              "      <button class=\"colab-df-convert\" onclick=\"convertToInteractive('df-0deaeb58-80a2-40ee-beb6-8e2b67876268')\"\n",
              "              title=\"Convert this dataframe to an interactive table.\"\n",
              "              style=\"display:none;\">\n",
              "        \n",
              "  <svg xmlns=\"http://www.w3.org/2000/svg\" height=\"24px\"viewBox=\"0 0 24 24\"\n",
              "       width=\"24px\">\n",
              "    <path d=\"M0 0h24v24H0V0z\" fill=\"none\"/>\n",
              "    <path d=\"M18.56 5.44l.94 2.06.94-2.06 2.06-.94-2.06-.94-.94-2.06-.94 2.06-2.06.94zm-11 1L8.5 8.5l.94-2.06 2.06-.94-2.06-.94L8.5 2.5l-.94 2.06-2.06.94zm10 10l.94 2.06.94-2.06 2.06-.94-2.06-.94-.94-2.06-.94 2.06-2.06.94z\"/><path d=\"M17.41 7.96l-1.37-1.37c-.4-.4-.92-.59-1.43-.59-.52 0-1.04.2-1.43.59L10.3 9.45l-7.72 7.72c-.78.78-.78 2.05 0 2.83L4 21.41c.39.39.9.59 1.41.59.51 0 1.02-.2 1.41-.59l7.78-7.78 2.81-2.81c.8-.78.8-2.07 0-2.86zM5.41 20L4 18.59l7.72-7.72 1.47 1.35L5.41 20z\"/>\n",
              "  </svg>\n",
              "      </button>\n",
              "      \n",
              "  <style>\n",
              "    .colab-df-container {\n",
              "      display:flex;\n",
              "      flex-wrap:wrap;\n",
              "      gap: 12px;\n",
              "    }\n",
              "\n",
              "    .colab-df-convert {\n",
              "      background-color: #E8F0FE;\n",
              "      border: none;\n",
              "      border-radius: 50%;\n",
              "      cursor: pointer;\n",
              "      display: none;\n",
              "      fill: #1967D2;\n",
              "      height: 32px;\n",
              "      padding: 0 0 0 0;\n",
              "      width: 32px;\n",
              "    }\n",
              "\n",
              "    .colab-df-convert:hover {\n",
              "      background-color: #E2EBFA;\n",
              "      box-shadow: 0px 1px 2px rgba(60, 64, 67, 0.3), 0px 1px 3px 1px rgba(60, 64, 67, 0.15);\n",
              "      fill: #174EA6;\n",
              "    }\n",
              "\n",
              "    [theme=dark] .colab-df-convert {\n",
              "      background-color: #3B4455;\n",
              "      fill: #D2E3FC;\n",
              "    }\n",
              "\n",
              "    [theme=dark] .colab-df-convert:hover {\n",
              "      background-color: #434B5C;\n",
              "      box-shadow: 0px 1px 3px 1px rgba(0, 0, 0, 0.15);\n",
              "      filter: drop-shadow(0px 1px 2px rgba(0, 0, 0, 0.3));\n",
              "      fill: #FFFFFF;\n",
              "    }\n",
              "  </style>\n",
              "\n",
              "      <script>\n",
              "        const buttonEl =\n",
              "          document.querySelector('#df-0deaeb58-80a2-40ee-beb6-8e2b67876268 button.colab-df-convert');\n",
              "        buttonEl.style.display =\n",
              "          google.colab.kernel.accessAllowed ? 'block' : 'none';\n",
              "\n",
              "        async function convertToInteractive(key) {\n",
              "          const element = document.querySelector('#df-0deaeb58-80a2-40ee-beb6-8e2b67876268');\n",
              "          const dataTable =\n",
              "            await google.colab.kernel.invokeFunction('convertToInteractive',\n",
              "                                                     [key], {});\n",
              "          if (!dataTable) return;\n",
              "\n",
              "          const docLinkHtml = 'Like what you see? Visit the ' +\n",
              "            '<a target=\"_blank\" href=https://colab.research.google.com/notebooks/data_table.ipynb>data table notebook</a>'\n",
              "            + ' to learn more about interactive tables.';\n",
              "          element.innerHTML = '';\n",
              "          dataTable['output_type'] = 'display_data';\n",
              "          await google.colab.output.renderOutput(dataTable, element);\n",
              "          const docLink = document.createElement('div');\n",
              "          docLink.innerHTML = docLinkHtml;\n",
              "          element.appendChild(docLink);\n",
              "        }\n",
              "      </script>\n",
              "    </div>\n",
              "  </div>\n",
              "  "
            ]
          },
          "metadata": {},
          "execution_count": 3
        }
      ]
    },
    {
      "cell_type": "code",
      "source": [
        ""
      ],
      "metadata": {
        "id": "-aSxw6u2IsxJ"
      },
      "execution_count": null,
      "outputs": []
    },
    {
      "cell_type": "markdown",
      "source": [
        "Verificando quantidade de dados reais nas colunas"
      ],
      "metadata": {
        "id": "QWCT_D7LJDU5"
      }
    },
    {
      "cell_type": "code",
      "source": [
        "df.count()"
      ],
      "metadata": {
        "id": "nsmXGNjCiLvo",
        "outputId": "16274f24-6389-4182-9c0e-332f8fe1e8d3",
        "colab": {
          "base_uri": "https://localhost:8080/"
        }
      },
      "execution_count": null,
      "outputs": [
        {
          "output_type": "execute_result",
          "data": {
            "text/plain": [
              "symbol                       20332\n",
              "interval                     20332\n",
              "openTime                     20332\n",
              "open                         20332\n",
              "openLongTime                 20332\n",
              "high                         20332\n",
              "low                          20332\n",
              "close                        20332\n",
              "volume                       20332\n",
              "closeTime                    20332\n",
              "closeLongTime                20332\n",
              "numberOfTrades               20332\n",
              "adl                          20332\n",
              "adx                          20305\n",
              "adx-mdi                      20305\n",
              "adx-pdi                      20305\n",
              "atr                          20318\n",
              "awesomeOscillator            20299\n",
              "bb-middle                    20313\n",
              "bb-upper                     20313\n",
              "bb-lower                     20313\n",
              "bb-pb                        20313\n",
              "cci                          20313\n",
              "fi                               0\n",
              "kst                          20288\n",
              "kst-signal                   20280\n",
              "MACD                         20307\n",
              "MACD-signal                  20299\n",
              "MACD-histogram               20299\n",
              "mfi                              0\n",
              "obv                          20331\n",
              "psar                             0\n",
              "roc                           1260\n",
              "rsi                          20318\n",
              "sma                          20324\n",
              "stochastic-k                 20319\n",
              "stochastic-d                 20317\n",
              "trix                             0\n",
              "typicalPrice                     0\n",
              "vwap                         20332\n",
              "ema                          20324\n",
              "wma                          20324\n",
              "williamsR                    20319\n",
              "ichimokuClound-conversion    20281\n",
              "ichimokuClound-base          20281\n",
              "ichimokuClound-spanA         20281\n",
              "ichimokuClound-spanB         20281\n",
              "dtype: int64"
            ]
          },
          "metadata": {},
          "execution_count": 4
        }
      ]
    },
    {
      "cell_type": "markdown",
      "source": [
        "Removendo Coluna com poucos dados \n"
      ],
      "metadata": {
        "id": "SYZdBQi8JPzR"
      }
    },
    {
      "cell_type": "code",
      "source": [
        "df = df.drop(columns=['fi', 'mfi', 'psar', 'roc', 'trix', 'typicalPrice'])\n",
        "\n"
      ],
      "metadata": {
        "id": "jfz9mM9TNH8o"
      },
      "execution_count": null,
      "outputs": []
    },
    {
      "cell_type": "code",
      "source": [
        "print(len(df))\n"
      ],
      "metadata": {
        "colab": {
          "base_uri": "https://localhost:8080/"
        },
        "id": "AHEujAUBNVj4",
        "outputId": "bc70301c-812e-4f03-fb4f-b2d25d919b40"
      },
      "execution_count": null,
      "outputs": [
        {
          "output_type": "stream",
          "name": "stdout",
          "text": [
            "20332\n"
          ]
        }
      ]
    },
    {
      "cell_type": "markdown",
      "source": [
        "Verificando contagem após remoção de colunas desnecessárias"
      ],
      "metadata": {
        "id": "dfJEDcU7JWw2"
      }
    },
    {
      "cell_type": "code",
      "source": [
        "df.count()\n",
        "\n"
      ],
      "metadata": {
        "id": "kcI9TohGJhDo",
        "outputId": "2b050dab-59c4-4327-d1ce-b9db7748017b",
        "colab": {
          "base_uri": "https://localhost:8080/"
        }
      },
      "execution_count": null,
      "outputs": [
        {
          "output_type": "execute_result",
          "data": {
            "text/plain": [
              "symbol                       20332\n",
              "interval                     20332\n",
              "openTime                     20332\n",
              "open                         20332\n",
              "openLongTime                 20332\n",
              "high                         20332\n",
              "low                          20332\n",
              "close                        20332\n",
              "volume                       20332\n",
              "closeTime                    20332\n",
              "closeLongTime                20332\n",
              "numberOfTrades               20332\n",
              "adl                          20332\n",
              "adx                          20305\n",
              "adx-mdi                      20305\n",
              "adx-pdi                      20305\n",
              "atr                          20318\n",
              "awesomeOscillator            20299\n",
              "bb-middle                    20313\n",
              "bb-upper                     20313\n",
              "bb-lower                     20313\n",
              "bb-pb                        20313\n",
              "cci                          20313\n",
              "kst                          20288\n",
              "kst-signal                   20280\n",
              "MACD                         20307\n",
              "MACD-signal                  20299\n",
              "MACD-histogram               20299\n",
              "obv                          20331\n",
              "rsi                          20318\n",
              "sma                          20324\n",
              "stochastic-k                 20319\n",
              "stochastic-d                 20317\n",
              "vwap                         20332\n",
              "ema                          20324\n",
              "wma                          20324\n",
              "williamsR                    20319\n",
              "ichimokuClound-conversion    20281\n",
              "ichimokuClound-base          20281\n",
              "ichimokuClound-spanA         20281\n",
              "ichimokuClound-spanB         20281\n",
              "dtype: int64"
            ]
          },
          "metadata": {},
          "execution_count": 7
        }
      ]
    },
    {
      "cell_type": "markdown",
      "source": [
        "1. Definindo alvo e período;\n",
        "2. Criação de lógica para verificação de ganho e de perdas ;\n",
        "3. Percorrer o datafrime verificando os dados; \n",
        "4. Verificação e inserção de dados em uma nova coluna;\n",
        "5. Inserção de uma nova coluna com os novos dados no datafrime "
      ],
      "metadata": {
        "id": "9zIVWGzAJgqv"
      }
    },
    {
      "cell_type": "markdown",
      "source": [
        "Escolha do melhor horizonte Tabela\n",
        "\n",
        "Desempenho em diferentes moedas. (entender qual melhor moeda -assertividade) \n"
      ],
      "metadata": {
        "id": "xPzy1RXYoFT-"
      }
    },
    {
      "cell_type": "markdown",
      "source": [
        "Suavização do dado\n",
        "Limitando a profundidade max da árvore \n",
        "\n"
      ],
      "metadata": {
        "id": "Y4r8APZYzI1s"
      }
    },
    {
      "cell_type": "markdown",
      "source": [
        "Modificar a preedição para uma janela no lugar de um índice \n"
      ],
      "metadata": {
        "id": "qOuDhhs1qXHF"
      }
    },
    {
      "cell_type": "code",
      "source": [
        "closes = df['close']\n",
        "target = []\n",
        "\n",
        "period_future = 15\n",
        "len_closes = len(closes)\n",
        "\n",
        "for i in range(len_closes):\n",
        "  if i + period_future < len_closes:\n",
        "    if float(closes[i+period_future]) >= (float(closes[i]) * 1.01):\n",
        "      target.append(1)\n",
        "    else:\n",
        "      target.append(0)\n",
        "  else:\n",
        "      target.append(None)\n",
        "\n",
        "df['target'] = target"
      ],
      "metadata": {
        "id": "QN9p0xTzPBOB"
      },
      "execution_count": null,
      "outputs": []
    },
    {
      "cell_type": "markdown",
      "source": [
        "Verificação do tamanho do datafrime antes da remoção dos valores nulos"
      ],
      "metadata": {
        "id": "UFHV-QHRKjdK"
      }
    },
    {
      "cell_type": "code",
      "source": [
        "print(len(df))"
      ],
      "metadata": {
        "id": "gfPTLHocKXhX",
        "colab": {
          "base_uri": "https://localhost:8080/"
        },
        "outputId": "d6a71cfe-88dc-44bb-9291-1ead10a04e65"
      },
      "execution_count": null,
      "outputs": [
        {
          "output_type": "stream",
          "name": "stdout",
          "text": [
            "20332\n"
          ]
        }
      ]
    },
    {
      "cell_type": "code",
      "source": [
        "df['target']"
      ],
      "metadata": {
        "colab": {
          "base_uri": "https://localhost:8080/"
        },
        "id": "WRW8T7qkE37_",
        "outputId": "c87f14e6-f6ba-4423-b59a-6ad88cb93ce6"
      },
      "execution_count": null,
      "outputs": [
        {
          "output_type": "execute_result",
          "data": {
            "text/plain": [
              "0       -1.0\n",
              "1        1.0\n",
              "2       -1.0\n",
              "3       -1.0\n",
              "4       -1.0\n",
              "        ... \n",
              "20327    NaN\n",
              "20328    NaN\n",
              "20329    NaN\n",
              "20330    NaN\n",
              "20331    NaN\n",
              "Name: target, Length: 20332, dtype: float64"
            ]
          },
          "metadata": {},
          "execution_count": 10
        }
      ]
    },
    {
      "cell_type": "markdown",
      "source": [
        "Remoção dos valores nulos."
      ],
      "metadata": {
        "id": "oYKnFYneKqlq"
      }
    },
    {
      "cell_type": "code",
      "source": [
        "df = df[df['close'].notnull()]\n",
        "df = df[df['volume'].notnull()]\n",
        "df = df[df['MACD'].notnull()]\n",
        "df = df[df['rsi'].notnull()]\n",
        "df = df[df['sma'].notnull()]\n",
        "df = df[df['vwap'].notnull()]\n",
        "df = df[df['ema'].notnull()]\n",
        "df = df[df['target'].notnull()]\n"
      ],
      "metadata": {
        "id": "H6oh4jteRUj7"
      },
      "execution_count": null,
      "outputs": []
    },
    {
      "cell_type": "markdown",
      "source": [
        "Verificação do tamanho do datafrime após remoção dos nulos "
      ],
      "metadata": {
        "id": "oOSSjBfgKyJU"
      }
    },
    {
      "cell_type": "code",
      "source": [
        "print(len(df))"
      ],
      "metadata": {
        "id": "8GpFgpB9K7Bq",
        "colab": {
          "base_uri": "https://localhost:8080/"
        },
        "outputId": "7cb71c6c-62c2-40a5-eb8a-81d1028f0a3e"
      },
      "execution_count": null,
      "outputs": [
        {
          "output_type": "stream",
          "name": "stdout",
          "text": [
            "20292\n"
          ]
        }
      ]
    },
    {
      "cell_type": "markdown",
      "source": [
        "Divisão do df para treino e test"
      ],
      "metadata": {
        "id": "cmtp2yw7LBno"
      }
    },
    {
      "cell_type": "code",
      "source": [
        ""
      ],
      "metadata": {
        "id": "FkiCE-WUKux0"
      },
      "execution_count": null,
      "outputs": []
    },
    {
      "cell_type": "code",
      "source": [
        "split_df = int(len(df) * 0.70)   \n",
        "\n",
        "df_train = df.iloc[:split_df,:]\n",
        "df_test = df.iloc[split_df:,:]   \n",
        "\n",
        "print('tamanho df treino: ' + str(len(df_train)))\n",
        "print('tamanho df teste: ' + str(len(df_test)))\n",
        "print(len(df_train)+len(df_test) == len(df))\n"
      ],
      "metadata": {
        "colab": {
          "base_uri": "https://localhost:8080/"
        },
        "id": "Cr5AvA3gaCjf",
        "outputId": "892dc2bc-ccc1-4aa4-eed7-f82531241200"
      },
      "execution_count": null,
      "outputs": [
        {
          "output_type": "stream",
          "name": "stdout",
          "text": [
            "tamanho df treino: 14204\n",
            "tamanho df teste: 6088\n",
            "True\n"
          ]
        }
      ]
    },
    {
      "cell_type": "markdown",
      "metadata": {
        "id": "ExhbHQJ8TBve"
      },
      "source": [
        "## Escolha dos algoritmos de aprendizagem de máquina\n",
        "\n",
        "* AdaBoost  \n",
        "* RandomForest  \n",
        "* GradientBoosting  "
      ]
    },
    {
      "cell_type": "markdown",
      "source": [
        "Catboost || rede neural - mlp\n"
      ],
      "metadata": {
        "id": "hPtg5kIBpSRL"
      }
    },
    {
      "cell_type": "markdown",
      "metadata": {
        "id": "luvH_FhqTBve"
      },
      "source": [
        "## Importando algoritmos de aprendizagem de máquina"
      ]
    },
    {
      "cell_type": "markdown",
      "source": [
        "variar param random florest - max-leaf-nodes\n"
      ],
      "metadata": {
        "id": "XrnsTKFEorlq"
      }
    },
    {
      "cell_type": "code",
      "metadata": {
        "id": "7OiDCPNRTBvh"
      },
      "source": [
        "from sklearn.ensemble import RandomForestClassifier, GradientBoostingClassifier, AdaBoostClassifier\n",
        "from sklearn.model_selection import GridSearchCV\n",
        "\n",
        "ada_clf = AdaBoostClassifier()\n",
        "rf_clf = RandomForestClassifier()\n",
        "grad_clf = GradientBoostingClassifier()\n"
      ],
      "execution_count": null,
      "outputs": []
    },
    {
      "cell_type": "markdown",
      "metadata": {
        "id": "vHwJ1k6H2w8K"
      },
      "source": [
        "### Funções para predição."
      ]
    },
    {
      "cell_type": "markdown",
      "source": [
        "Verifica a possibilidade de impor restrições ao modelo. (API - fit:) \n",
        "mexer na quantidade de hiper-parametros "
      ],
      "metadata": {
        "id": "y__BBLOqzgFQ"
      }
    },
    {
      "cell_type": "code",
      "metadata": {
        "id": "K1wBYyb4gb41"
      },
      "source": [
        "def prediction_features(clf,target, dataFrame, features):\n",
        "    param_grid = {}\n",
        "    grid= GridSearchCV(clf, param_grid=param_grid, verbose=1, cv=5)\n",
        "\n",
        "    grid.fit(dataFrame[features],dataFrame[target])\n",
        "    clf.fit(dataFrame[features],dataFrame[target])\n",
        "    print('resultado do algoritmo: ')\n",
        "    print(grid.best_score_)\n",
        "    print('features importantes:')\n",
        "    print(clf.feature_importances_)\n",
        "    return grid.best_score_, clf.feature_importances_\n",
        "    \n"
      ],
      "execution_count": null,
      "outputs": []
    },
    {
      "cell_type": "markdown",
      "metadata": {
        "id": "OdeqCNn620cp"
      },
      "source": [
        "## Treinando algoritmos com features não tratadas\n"
      ]
    },
    {
      "cell_type": "markdown",
      "source": [
        "Suavização de todos as features de entrada"
      ],
      "metadata": {
        "id": "6xC2glrq0jEA"
      }
    },
    {
      "cell_type": "code",
      "metadata": {
        "id": "fOcKx-ABg59v"
      },
      "source": [
        "feature_train = [ \n",
        "'close',\n",
        "'volume',\n",
        "'MACD',\n",
        "'rsi',\n",
        "'sma',\n",
        "'vwap',\n",
        "'ema',       \n",
        "'bb-middle',        \n",
        "'bb-upper',         \n",
        "'bb-lower',         \n",
        "'bb-pb',            \n",
        "'cci'  \n",
        "]"
      ],
      "execution_count": null,
      "outputs": []
    },
    {
      "cell_type": "code",
      "source": [
        "ada_results_1,ada_features_1 = prediction_features(ada_clf, 'target', df_train, feature_train)"
      ],
      "metadata": {
        "colab": {
          "base_uri": "https://localhost:8080/"
        },
        "id": "ER32oj7ZejNM",
        "outputId": "985ac755-ec85-4687-8f6d-44e8226845c6"
      },
      "execution_count": null,
      "outputs": [
        {
          "output_type": "stream",
          "name": "stdout",
          "text": [
            "Fitting 5 folds for each of 1 candidates, totalling 5 fits\n",
            "resultado do algoritmo: \n",
            "0.5078131088537561\n",
            "features importantes:\n",
            "[1.]\n"
          ]
        }
      ]
    },
    {
      "cell_type": "code",
      "source": [
        "rf_results_1,rf_features_1 = prediction_features(rf_clf, 'target', df_train, feature_train)"
      ],
      "metadata": {
        "colab": {
          "base_uri": "https://localhost:8080/"
        },
        "id": "kMjMeEF7fqMc",
        "outputId": "88d5c64d-46de-424c-8654-880328c46881"
      },
      "execution_count": null,
      "outputs": [
        {
          "output_type": "stream",
          "name": "stdout",
          "text": [
            "Fitting 5 folds for each of 1 candidates, totalling 5 fits\n",
            "resultado do algoritmo: \n",
            "0.4253734303037514\n",
            "features importantes:\n",
            "[1.]\n"
          ]
        }
      ]
    },
    {
      "cell_type": "code",
      "source": [
        "grad_results_1,grad_features_1 = prediction_features(grad_clf, 'target', df_train, feature_train)"
      ],
      "metadata": {
        "colab": {
          "base_uri": "https://localhost:8080/"
        },
        "id": "8Nn2Zo0IgYtp",
        "outputId": "298e4901-3a0c-4c21-e209-94c2b44d0081"
      },
      "execution_count": null,
      "outputs": [
        {
          "output_type": "stream",
          "name": "stdout",
          "text": [
            "Fitting 5 folds for each of 1 candidates, totalling 5 fits\n",
            "resultado do algoritmo: \n",
            "0.5048560812251192\n",
            "features importantes:\n",
            "[1.]\n"
          ]
        }
      ]
    },
    {
      "cell_type": "code",
      "source": [
        "def formater_porcent(value):\n",
        "    return float(( \"%.2f\" % (float(value) * 100)))"
      ],
      "metadata": {
        "id": "cltUJrpjL5oj"
      },
      "execution_count": null,
      "outputs": []
    },
    {
      "cell_type": "markdown",
      "source": [
        "Treino"
      ],
      "metadata": {
        "id": "UGXZeVr1JZG5"
      }
    },
    {
      "cell_type": "code",
      "source": [
        "ADABOOST = 'ada'\n",
        "RANDOMFOREST = 'rf'\n",
        "GRADIENTBOOST = 'grad'\n",
        "\n",
        "def validation_predict(clf, param_grid, df_train, df_test, features, target, nome_clf):\n",
        "    \n",
        "    print(nome_clf + ': ' + target)\n",
        "    \n",
        "    grid= GridSearchCV(clf, param_grid, verbose=1, cv=5)\n",
        "    grid.fit(df_train[features],df_train[target])\n",
        "\n",
        "    grid.best_score_\n",
        "    p = grid.predict(df_test[features])\n",
        "\n",
        "    new_column = nome_clf+'_'+target+'_predict'\n",
        "    df_test[new_column] = p\n",
        "\n",
        "\n",
        "    hits = df_test[df_test[new_column] == df_test[target]]\n",
        "    print('Resultado do algoritmo: ')\n",
        "    print(float(len(hits))/len(df_test))\n",
        "    return formater_porcent(float(len(hits))/len(df_test))"
      ],
      "metadata": {
        "id": "WpvUigq-JYIX"
      },
      "execution_count": null,
      "outputs": []
    },
    {
      "cell_type": "markdown",
      "source": [
        "Testanto RF"
      ],
      "metadata": {
        "id": "WaY7gYieK1zY"
      }
    },
    {
      "cell_type": "code",
      "source": [
        "features = [ \n",
        "# 'close',\n",
        "# 'volume',\n",
        "# 'MACD',\n",
        "'rsi',\n",
        "# 'sma',\n",
        "# 'vwap',\n",
        "# 'ema',      \n",
        "# 'bb-middle',        \n",
        "# 'bb-upper',         \n",
        "# 'bb-lower',         \n",
        "# 'bb-pb',            \n",
        "# 'cci',              \n",
        "]\n"
      ],
      "metadata": {
        "id": "-C5TJyanNOY9"
      },
      "execution_count": null,
      "outputs": []
    },
    {
      "cell_type": "code",
      "source": [
        "rf_param_grid ={'n_estimators': list(range(1,11)), \n",
        "            'max_depth': [2],\n",
        "            'min_samples_leaf': [1],\n",
        "            'min_weight_fraction_leaf': np.arange(0.1, 0.5, 0.1),\n",
        "            'n_jobs': [1],\n",
        "            'random_state': [10],\n",
        "            'verbose': [0]}\n",
        "\n",
        "\n",
        "validation_predict(rf_clf, rf_param_grid, df_train, df_test, features, 'target', 'RANDOMFOREST')\n"
      ],
      "metadata": {
        "id": "ardcpd2UJfCw",
        "colab": {
          "base_uri": "https://localhost:8080/"
        },
        "outputId": "2af3b1fd-cf9a-4949-f74d-e7ec75448133"
      },
      "execution_count": null,
      "outputs": [
        {
          "output_type": "stream",
          "name": "stdout",
          "text": [
            "RANDOMFOREST: target\n",
            "Fitting 5 folds for each of 40 candidates, totalling 200 fits\n",
            "Resultado do algoritmo: \n",
            "0.5187253613666228\n"
          ]
        },
        {
          "output_type": "stream",
          "name": "stderr",
          "text": [
            "/usr/local/lib/python3.7/dist-packages/ipykernel_launcher.py:16: SettingWithCopyWarning: \n",
            "A value is trying to be set on a copy of a slice from a DataFrame.\n",
            "Try using .loc[row_indexer,col_indexer] = value instead\n",
            "\n",
            "See the caveats in the documentation: https://pandas.pydata.org/pandas-docs/stable/user_guide/indexing.html#returning-a-view-versus-a-copy\n",
            "  app.launch_new_instance()\n"
          ]
        },
        {
          "output_type": "execute_result",
          "data": {
            "text/plain": [
              "51.87"
            ]
          },
          "metadata": {},
          "execution_count": 23
        }
      ]
    },
    {
      "cell_type": "markdown",
      "source": [
        "Testando ADA"
      ],
      "metadata": {
        "id": "tjWe1gLgMweW"
      }
    },
    {
      "cell_type": "code",
      "source": [
        "ada_param_grid ={'n_estimators': [160], \n",
        "             'learning_rate': [0.09],\n",
        "            'random_state': [1]}\n",
        "            \n",
        "validation_predict(ada_clf, ada_param_grid, df_train, df_test, features,'target', 'ADABOOST')"
      ],
      "metadata": {
        "colab": {
          "base_uri": "https://localhost:8080/"
        },
        "id": "TZL2KbJ0MzTn",
        "outputId": "045607a0-2335-4ebe-90fd-ab27b02e950c"
      },
      "execution_count": null,
      "outputs": [
        {
          "output_type": "stream",
          "name": "stdout",
          "text": [
            "ADABOOST: target\n",
            "Fitting 5 folds for each of 1 candidates, totalling 5 fits\n",
            "Resultado do algoritmo: \n",
            "0.5188896189224704\n"
          ]
        },
        {
          "output_type": "stream",
          "name": "stderr",
          "text": [
            "/usr/local/lib/python3.7/dist-packages/ipykernel_launcher.py:16: SettingWithCopyWarning: \n",
            "A value is trying to be set on a copy of a slice from a DataFrame.\n",
            "Try using .loc[row_indexer,col_indexer] = value instead\n",
            "\n",
            "See the caveats in the documentation: https://pandas.pydata.org/pandas-docs/stable/user_guide/indexing.html#returning-a-view-versus-a-copy\n",
            "  app.launch_new_instance()\n"
          ]
        },
        {
          "output_type": "execute_result",
          "data": {
            "text/plain": [
              "51.89"
            ]
          },
          "metadata": {},
          "execution_count": 24
        }
      ]
    },
    {
      "cell_type": "code",
      "source": [
        "grad_param_grid ={'loss': ['deviance'], \n",
        "            'learning_rate': [0.09],\n",
        "            'n_estimators': [150],\n",
        "            'max_depth': [1],\n",
        "            'min_samples_leaf': [5],\n",
        "            'verbose': [0],\n",
        "            'random_state': [1]}\n",
        "\n",
        "validation_predict(grad_clf, grad_param_grid, df_train, df_test, features, 'target', 'GRADIENTBOOST')"
      ],
      "metadata": {
        "colab": {
          "base_uri": "https://localhost:8080/"
        },
        "id": "iYHYf1CINT8V",
        "outputId": "c9832133-2183-43fa-d9bb-2b4d9ceb7461"
      },
      "execution_count": null,
      "outputs": [
        {
          "output_type": "stream",
          "name": "stdout",
          "text": [
            "GRADIENTBOOST: target\n",
            "Fitting 5 folds for each of 1 candidates, totalling 5 fits\n",
            "Resultado do algoritmo: \n",
            "0.519053876478318\n"
          ]
        },
        {
          "output_type": "stream",
          "name": "stderr",
          "text": [
            "/usr/local/lib/python3.7/dist-packages/ipykernel_launcher.py:16: SettingWithCopyWarning: \n",
            "A value is trying to be set on a copy of a slice from a DataFrame.\n",
            "Try using .loc[row_indexer,col_indexer] = value instead\n",
            "\n",
            "See the caveats in the documentation: https://pandas.pydata.org/pandas-docs/stable/user_guide/indexing.html#returning-a-view-versus-a-copy\n",
            "  app.launch_new_instance()\n"
          ]
        },
        {
          "output_type": "execute_result",
          "data": {
            "text/plain": [
              "51.91"
            ]
          },
          "metadata": {},
          "execution_count": 25
        }
      ]
    },
    {
      "cell_type": "code",
      "source": [
        "df_test.columns"
      ],
      "metadata": {
        "colab": {
          "base_uri": "https://localhost:8080/"
        },
        "id": "V3rc5_S-WhN-",
        "outputId": "4f8748e1-56f5-4462-d486-3b298afb0371"
      },
      "execution_count": null,
      "outputs": [
        {
          "output_type": "execute_result",
          "data": {
            "text/plain": [
              "Index(['symbol', 'interval', 'openTime', 'open', 'openLongTime', 'high', 'low',\n",
              "       'close', 'volume', 'closeTime', 'closeLongTime', 'numberOfTrades',\n",
              "       'adl', 'adx', 'adx-mdi', 'adx-pdi', 'atr', 'awesomeOscillator',\n",
              "       'bb-middle', 'bb-upper', 'bb-lower', 'bb-pb', 'cci', 'kst',\n",
              "       'kst-signal', 'MACD', 'MACD-signal', 'MACD-histogram', 'obv', 'rsi',\n",
              "       'sma', 'stochastic-k', 'stochastic-d', 'vwap', 'ema', 'wma',\n",
              "       'williamsR', 'ichimokuClound-conversion', 'ichimokuClound-base',\n",
              "       'ichimokuClound-spanA', 'ichimokuClound-spanB', 'target',\n",
              "       'RANDOMFOREST_target_predict', 'ADABOOST_target_predict',\n",
              "       'GRADIENTBOOST_target_predict'],\n",
              "      dtype='object')"
            ]
          },
          "metadata": {},
          "execution_count": 26
        }
      ]
    },
    {
      "cell_type": "code",
      "source": [
        "for i in df_test['RANDOMFOREST_target_predict']:\n",
        "  if(float(i) > 0):\n",
        "    print(i)"
      ],
      "metadata": {
        "id": "WnlYdzGMXHW9"
      },
      "execution_count": null,
      "outputs": []
    }
  ]
}