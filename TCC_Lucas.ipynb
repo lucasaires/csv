{
  "nbformat": 4,
  "nbformat_minor": 0,
  "metadata": {
    "colab": {
      "name": "TCC - Lucas ",
      "provenance": [],
      "collapsed_sections": [],
      "include_colab_link": true
    },
    "kernelspec": {
      "name": "python3",
      "display_name": "Python 3"
    },
    "language_info": {
      "name": "python"
    }
  },
  "cells": [
    {
      "cell_type": "markdown",
      "metadata": {
        "id": "view-in-github",
        "colab_type": "text"
      },
      "source": [
        "<a href=\"https://colab.research.google.com/github/lucasaires/csv/blob/codigo/TCC_Lucas.ipynb\" target=\"_parent\"><img src=\"https://colab.research.google.com/assets/colab-badge.svg\" alt=\"Open In Colab\"/></a>"
      ]
    },
    {
      "cell_type": "code",
      "execution_count": 225,
      "metadata": {
        "id": "tNXVIeTDg6c5"
      },
      "outputs": [],
      "source": [
        "import pandas as pd\n",
        "import numpy as np\n",
        "import matplotlib.pyplot as plt\n",
        "from sklearn.metrics import ConfusionMatrixDisplay\n",
        "from pandas import Series\n",
        "from pandas import concat\n",
        "from sklearn.svm import SVC\n",
        "import seaborn as sn"
      ]
    },
    {
      "cell_type": "markdown",
      "source": [
        "## Importando dados\n",
        "\n",
        "\n"
      ],
      "metadata": {
        "id": "mjcvQV6PhiZa"
      }
    },
    {
      "cell_type": "code",
      "source": [
        "df = pd.read_csv('https://raw.githubusercontent.com/lucasaires/csv/master/Gala99c2b0e7-be6e-48b5-af96-4989bf24d3fc.csv')\n",
        "df\n"
      ],
      "metadata": {
        "colab": {
          "base_uri": "https://localhost:8080/",
          "height": 852
        },
        "id": "9RK8nsIBhdp8",
        "outputId": "d6a7f08d-155c-4140-ac07-4723f4da1835"
      },
      "execution_count": 226,
      "outputs": [
        {
          "output_type": "execute_result",
          "data": {
            "text/plain": [
              "         symbol interval             openTime     open   openLongTime  \\\n",
              "0      GALAUSDT      15m  13-09-2021 03:00:00  0.02103  1631512800000   \n",
              "1      GALAUSDT      15m  13-09-2021 03:15:00  0.06211  1631513700000   \n",
              "2      GALAUSDT      15m  13-09-2021 03:30:00  0.05732  1631514600000   \n",
              "3      GALAUSDT      15m  13-09-2021 03:45:00  0.06010  1631515500000   \n",
              "4      GALAUSDT      15m  13-09-2021 04:00:00  0.06577  1631516400000   \n",
              "...         ...      ...                  ...      ...            ...   \n",
              "20327  GALAUSDT      15m  12-04-2022 22:45:00  0.20087  1649814300000   \n",
              "20328  GALAUSDT      15m  12-04-2022 23:00:00  0.20167  1649815200000   \n",
              "20329  GALAUSDT      15m  12-04-2022 23:15:00  0.20053  1649816100000   \n",
              "20330  GALAUSDT      15m  12-04-2022 23:30:00  0.20027  1649817000000   \n",
              "20331  GALAUSDT      15m  12-04-2022 23:45:00  0.20190  1649817900000   \n",
              "\n",
              "          high      low    close       volume            closeTime  ...  trix  \\\n",
              "0      0.07805  0.02103  0.06210  718072847.0  13-09-2021 03:14:59  ...   NaN   \n",
              "1      0.06300  0.05263  0.05729  271757398.0  13-09-2021 03:29:59  ...   NaN   \n",
              "2      0.06066  0.05532  0.06011  140632167.0  13-09-2021 03:44:59  ...   NaN   \n",
              "3      0.06884  0.05676  0.06577  301235982.0  13-09-2021 03:59:59  ...   NaN   \n",
              "4      0.07707  0.06562  0.07577  474279842.0  13-09-2021 04:14:59  ...   NaN   \n",
              "...        ...      ...      ...          ...                  ...  ...   ...   \n",
              "20327  0.20174  0.20022  0.20170    2027467.0  12-04-2022 22:59:59  ...   NaN   \n",
              "20328  0.20193  0.20044  0.20052    2628167.0  12-04-2022 23:14:59  ...   NaN   \n",
              "20329  0.20070  0.19970  0.20026    1693040.0  12-04-2022 23:29:59  ...   NaN   \n",
              "20330  0.20246  0.20022  0.20191    2819949.0  12-04-2022 23:44:59  ...   NaN   \n",
              "20331  0.20190  0.20119  0.20122     187039.0  12-04-2022 23:59:59  ...   NaN   \n",
              "\n",
              "       typicalPrice      vwap       ema       wma    williamsR  \\\n",
              "0               NaN  0.100100       NaN       NaN          NaN   \n",
              "1               NaN  0.101678       NaN       NaN          NaN   \n",
              "2               NaN  0.102142       NaN       NaN          NaN   \n",
              "3               NaN  0.103524       NaN       NaN          NaN   \n",
              "4               NaN  0.106329       NaN       NaN          NaN   \n",
              "...             ...       ...       ...       ...          ...   \n",
              "20327           NaN  0.243746  0.067709  0.068820 -2010.284810   \n",
              "20328           NaN  0.243745  0.067321  0.068610 -2168.512658   \n",
              "20329           NaN  0.243745  0.065879  0.067202 -3365.801887   \n",
              "20330           NaN  0.243744  0.064161  0.065353 -3515.217391   \n",
              "20331           NaN  0.243744  0.063749  0.064595 -3399.033816   \n",
              "\n",
              "       ichimokuClound-conversion  ichimokuClound-base  ichimokuClound-spanA  \\\n",
              "0                            NaN                  NaN                   NaN   \n",
              "1                            NaN                  NaN                   NaN   \n",
              "2                            NaN                  NaN                   NaN   \n",
              "3                            NaN                  NaN                   NaN   \n",
              "4                            NaN                  NaN                   NaN   \n",
              "...                          ...                  ...                   ...   \n",
              "20327                    0.20070              0.19894              0.199820   \n",
              "20328                    0.20049              0.19894              0.199715   \n",
              "20329                    0.20049              0.19894              0.199715   \n",
              "20330                    0.20057              0.19948              0.200025   \n",
              "20331                    0.20057              0.19948              0.200025   \n",
              "\n",
              "       ichimokuClound-spanB  \n",
              "0                       NaN  \n",
              "1                       NaN  \n",
              "2                       NaN  \n",
              "3                       NaN  \n",
              "4                       NaN  \n",
              "...                     ...  \n",
              "20327              0.200865  \n",
              "20328              0.200645  \n",
              "20329              0.200435  \n",
              "20330              0.199740  \n",
              "20331              0.199460  \n",
              "\n",
              "[20332 rows x 47 columns]"
            ],
            "text/html": [
              "\n",
              "  <div id=\"df-a1b97e88-9010-4c3a-bdf1-326289b6c485\">\n",
              "    <div class=\"colab-df-container\">\n",
              "      <div>\n",
              "<style scoped>\n",
              "    .dataframe tbody tr th:only-of-type {\n",
              "        vertical-align: middle;\n",
              "    }\n",
              "\n",
              "    .dataframe tbody tr th {\n",
              "        vertical-align: top;\n",
              "    }\n",
              "\n",
              "    .dataframe thead th {\n",
              "        text-align: right;\n",
              "    }\n",
              "</style>\n",
              "<table border=\"1\" class=\"dataframe\">\n",
              "  <thead>\n",
              "    <tr style=\"text-align: right;\">\n",
              "      <th></th>\n",
              "      <th>symbol</th>\n",
              "      <th>interval</th>\n",
              "      <th>openTime</th>\n",
              "      <th>open</th>\n",
              "      <th>openLongTime</th>\n",
              "      <th>high</th>\n",
              "      <th>low</th>\n",
              "      <th>close</th>\n",
              "      <th>volume</th>\n",
              "      <th>closeTime</th>\n",
              "      <th>...</th>\n",
              "      <th>trix</th>\n",
              "      <th>typicalPrice</th>\n",
              "      <th>vwap</th>\n",
              "      <th>ema</th>\n",
              "      <th>wma</th>\n",
              "      <th>williamsR</th>\n",
              "      <th>ichimokuClound-conversion</th>\n",
              "      <th>ichimokuClound-base</th>\n",
              "      <th>ichimokuClound-spanA</th>\n",
              "      <th>ichimokuClound-spanB</th>\n",
              "    </tr>\n",
              "  </thead>\n",
              "  <tbody>\n",
              "    <tr>\n",
              "      <th>0</th>\n",
              "      <td>GALAUSDT</td>\n",
              "      <td>15m</td>\n",
              "      <td>13-09-2021 03:00:00</td>\n",
              "      <td>0.02103</td>\n",
              "      <td>1631512800000</td>\n",
              "      <td>0.07805</td>\n",
              "      <td>0.02103</td>\n",
              "      <td>0.06210</td>\n",
              "      <td>718072847.0</td>\n",
              "      <td>13-09-2021 03:14:59</td>\n",
              "      <td>...</td>\n",
              "      <td>NaN</td>\n",
              "      <td>NaN</td>\n",
              "      <td>0.100100</td>\n",
              "      <td>NaN</td>\n",
              "      <td>NaN</td>\n",
              "      <td>NaN</td>\n",
              "      <td>NaN</td>\n",
              "      <td>NaN</td>\n",
              "      <td>NaN</td>\n",
              "      <td>NaN</td>\n",
              "    </tr>\n",
              "    <tr>\n",
              "      <th>1</th>\n",
              "      <td>GALAUSDT</td>\n",
              "      <td>15m</td>\n",
              "      <td>13-09-2021 03:15:00</td>\n",
              "      <td>0.06211</td>\n",
              "      <td>1631513700000</td>\n",
              "      <td>0.06300</td>\n",
              "      <td>0.05263</td>\n",
              "      <td>0.05729</td>\n",
              "      <td>271757398.0</td>\n",
              "      <td>13-09-2021 03:29:59</td>\n",
              "      <td>...</td>\n",
              "      <td>NaN</td>\n",
              "      <td>NaN</td>\n",
              "      <td>0.101678</td>\n",
              "      <td>NaN</td>\n",
              "      <td>NaN</td>\n",
              "      <td>NaN</td>\n",
              "      <td>NaN</td>\n",
              "      <td>NaN</td>\n",
              "      <td>NaN</td>\n",
              "      <td>NaN</td>\n",
              "    </tr>\n",
              "    <tr>\n",
              "      <th>2</th>\n",
              "      <td>GALAUSDT</td>\n",
              "      <td>15m</td>\n",
              "      <td>13-09-2021 03:30:00</td>\n",
              "      <td>0.05732</td>\n",
              "      <td>1631514600000</td>\n",
              "      <td>0.06066</td>\n",
              "      <td>0.05532</td>\n",
              "      <td>0.06011</td>\n",
              "      <td>140632167.0</td>\n",
              "      <td>13-09-2021 03:44:59</td>\n",
              "      <td>...</td>\n",
              "      <td>NaN</td>\n",
              "      <td>NaN</td>\n",
              "      <td>0.102142</td>\n",
              "      <td>NaN</td>\n",
              "      <td>NaN</td>\n",
              "      <td>NaN</td>\n",
              "      <td>NaN</td>\n",
              "      <td>NaN</td>\n",
              "      <td>NaN</td>\n",
              "      <td>NaN</td>\n",
              "    </tr>\n",
              "    <tr>\n",
              "      <th>3</th>\n",
              "      <td>GALAUSDT</td>\n",
              "      <td>15m</td>\n",
              "      <td>13-09-2021 03:45:00</td>\n",
              "      <td>0.06010</td>\n",
              "      <td>1631515500000</td>\n",
              "      <td>0.06884</td>\n",
              "      <td>0.05676</td>\n",
              "      <td>0.06577</td>\n",
              "      <td>301235982.0</td>\n",
              "      <td>13-09-2021 03:59:59</td>\n",
              "      <td>...</td>\n",
              "      <td>NaN</td>\n",
              "      <td>NaN</td>\n",
              "      <td>0.103524</td>\n",
              "      <td>NaN</td>\n",
              "      <td>NaN</td>\n",
              "      <td>NaN</td>\n",
              "      <td>NaN</td>\n",
              "      <td>NaN</td>\n",
              "      <td>NaN</td>\n",
              "      <td>NaN</td>\n",
              "    </tr>\n",
              "    <tr>\n",
              "      <th>4</th>\n",
              "      <td>GALAUSDT</td>\n",
              "      <td>15m</td>\n",
              "      <td>13-09-2021 04:00:00</td>\n",
              "      <td>0.06577</td>\n",
              "      <td>1631516400000</td>\n",
              "      <td>0.07707</td>\n",
              "      <td>0.06562</td>\n",
              "      <td>0.07577</td>\n",
              "      <td>474279842.0</td>\n",
              "      <td>13-09-2021 04:14:59</td>\n",
              "      <td>...</td>\n",
              "      <td>NaN</td>\n",
              "      <td>NaN</td>\n",
              "      <td>0.106329</td>\n",
              "      <td>NaN</td>\n",
              "      <td>NaN</td>\n",
              "      <td>NaN</td>\n",
              "      <td>NaN</td>\n",
              "      <td>NaN</td>\n",
              "      <td>NaN</td>\n",
              "      <td>NaN</td>\n",
              "    </tr>\n",
              "    <tr>\n",
              "      <th>...</th>\n",
              "      <td>...</td>\n",
              "      <td>...</td>\n",
              "      <td>...</td>\n",
              "      <td>...</td>\n",
              "      <td>...</td>\n",
              "      <td>...</td>\n",
              "      <td>...</td>\n",
              "      <td>...</td>\n",
              "      <td>...</td>\n",
              "      <td>...</td>\n",
              "      <td>...</td>\n",
              "      <td>...</td>\n",
              "      <td>...</td>\n",
              "      <td>...</td>\n",
              "      <td>...</td>\n",
              "      <td>...</td>\n",
              "      <td>...</td>\n",
              "      <td>...</td>\n",
              "      <td>...</td>\n",
              "      <td>...</td>\n",
              "      <td>...</td>\n",
              "    </tr>\n",
              "    <tr>\n",
              "      <th>20327</th>\n",
              "      <td>GALAUSDT</td>\n",
              "      <td>15m</td>\n",
              "      <td>12-04-2022 22:45:00</td>\n",
              "      <td>0.20087</td>\n",
              "      <td>1649814300000</td>\n",
              "      <td>0.20174</td>\n",
              "      <td>0.20022</td>\n",
              "      <td>0.20170</td>\n",
              "      <td>2027467.0</td>\n",
              "      <td>12-04-2022 22:59:59</td>\n",
              "      <td>...</td>\n",
              "      <td>NaN</td>\n",
              "      <td>NaN</td>\n",
              "      <td>0.243746</td>\n",
              "      <td>0.067709</td>\n",
              "      <td>0.068820</td>\n",
              "      <td>-2010.284810</td>\n",
              "      <td>0.20070</td>\n",
              "      <td>0.19894</td>\n",
              "      <td>0.199820</td>\n",
              "      <td>0.200865</td>\n",
              "    </tr>\n",
              "    <tr>\n",
              "      <th>20328</th>\n",
              "      <td>GALAUSDT</td>\n",
              "      <td>15m</td>\n",
              "      <td>12-04-2022 23:00:00</td>\n",
              "      <td>0.20167</td>\n",
              "      <td>1649815200000</td>\n",
              "      <td>0.20193</td>\n",
              "      <td>0.20044</td>\n",
              "      <td>0.20052</td>\n",
              "      <td>2628167.0</td>\n",
              "      <td>12-04-2022 23:14:59</td>\n",
              "      <td>...</td>\n",
              "      <td>NaN</td>\n",
              "      <td>NaN</td>\n",
              "      <td>0.243745</td>\n",
              "      <td>0.067321</td>\n",
              "      <td>0.068610</td>\n",
              "      <td>-2168.512658</td>\n",
              "      <td>0.20049</td>\n",
              "      <td>0.19894</td>\n",
              "      <td>0.199715</td>\n",
              "      <td>0.200645</td>\n",
              "    </tr>\n",
              "    <tr>\n",
              "      <th>20329</th>\n",
              "      <td>GALAUSDT</td>\n",
              "      <td>15m</td>\n",
              "      <td>12-04-2022 23:15:00</td>\n",
              "      <td>0.20053</td>\n",
              "      <td>1649816100000</td>\n",
              "      <td>0.20070</td>\n",
              "      <td>0.19970</td>\n",
              "      <td>0.20026</td>\n",
              "      <td>1693040.0</td>\n",
              "      <td>12-04-2022 23:29:59</td>\n",
              "      <td>...</td>\n",
              "      <td>NaN</td>\n",
              "      <td>NaN</td>\n",
              "      <td>0.243745</td>\n",
              "      <td>0.065879</td>\n",
              "      <td>0.067202</td>\n",
              "      <td>-3365.801887</td>\n",
              "      <td>0.20049</td>\n",
              "      <td>0.19894</td>\n",
              "      <td>0.199715</td>\n",
              "      <td>0.200435</td>\n",
              "    </tr>\n",
              "    <tr>\n",
              "      <th>20330</th>\n",
              "      <td>GALAUSDT</td>\n",
              "      <td>15m</td>\n",
              "      <td>12-04-2022 23:30:00</td>\n",
              "      <td>0.20027</td>\n",
              "      <td>1649817000000</td>\n",
              "      <td>0.20246</td>\n",
              "      <td>0.20022</td>\n",
              "      <td>0.20191</td>\n",
              "      <td>2819949.0</td>\n",
              "      <td>12-04-2022 23:44:59</td>\n",
              "      <td>...</td>\n",
              "      <td>NaN</td>\n",
              "      <td>NaN</td>\n",
              "      <td>0.243744</td>\n",
              "      <td>0.064161</td>\n",
              "      <td>0.065353</td>\n",
              "      <td>-3515.217391</td>\n",
              "      <td>0.20057</td>\n",
              "      <td>0.19948</td>\n",
              "      <td>0.200025</td>\n",
              "      <td>0.199740</td>\n",
              "    </tr>\n",
              "    <tr>\n",
              "      <th>20331</th>\n",
              "      <td>GALAUSDT</td>\n",
              "      <td>15m</td>\n",
              "      <td>12-04-2022 23:45:00</td>\n",
              "      <td>0.20190</td>\n",
              "      <td>1649817900000</td>\n",
              "      <td>0.20190</td>\n",
              "      <td>0.20119</td>\n",
              "      <td>0.20122</td>\n",
              "      <td>187039.0</td>\n",
              "      <td>12-04-2022 23:59:59</td>\n",
              "      <td>...</td>\n",
              "      <td>NaN</td>\n",
              "      <td>NaN</td>\n",
              "      <td>0.243744</td>\n",
              "      <td>0.063749</td>\n",
              "      <td>0.064595</td>\n",
              "      <td>-3399.033816</td>\n",
              "      <td>0.20057</td>\n",
              "      <td>0.19948</td>\n",
              "      <td>0.200025</td>\n",
              "      <td>0.199460</td>\n",
              "    </tr>\n",
              "  </tbody>\n",
              "</table>\n",
              "<p>20332 rows × 47 columns</p>\n",
              "</div>\n",
              "      <button class=\"colab-df-convert\" onclick=\"convertToInteractive('df-a1b97e88-9010-4c3a-bdf1-326289b6c485')\"\n",
              "              title=\"Convert this dataframe to an interactive table.\"\n",
              "              style=\"display:none;\">\n",
              "        \n",
              "  <svg xmlns=\"http://www.w3.org/2000/svg\" height=\"24px\"viewBox=\"0 0 24 24\"\n",
              "       width=\"24px\">\n",
              "    <path d=\"M0 0h24v24H0V0z\" fill=\"none\"/>\n",
              "    <path d=\"M18.56 5.44l.94 2.06.94-2.06 2.06-.94-2.06-.94-.94-2.06-.94 2.06-2.06.94zm-11 1L8.5 8.5l.94-2.06 2.06-.94-2.06-.94L8.5 2.5l-.94 2.06-2.06.94zm10 10l.94 2.06.94-2.06 2.06-.94-2.06-.94-.94-2.06-.94 2.06-2.06.94z\"/><path d=\"M17.41 7.96l-1.37-1.37c-.4-.4-.92-.59-1.43-.59-.52 0-1.04.2-1.43.59L10.3 9.45l-7.72 7.72c-.78.78-.78 2.05 0 2.83L4 21.41c.39.39.9.59 1.41.59.51 0 1.02-.2 1.41-.59l7.78-7.78 2.81-2.81c.8-.78.8-2.07 0-2.86zM5.41 20L4 18.59l7.72-7.72 1.47 1.35L5.41 20z\"/>\n",
              "  </svg>\n",
              "      </button>\n",
              "      \n",
              "  <style>\n",
              "    .colab-df-container {\n",
              "      display:flex;\n",
              "      flex-wrap:wrap;\n",
              "      gap: 12px;\n",
              "    }\n",
              "\n",
              "    .colab-df-convert {\n",
              "      background-color: #E8F0FE;\n",
              "      border: none;\n",
              "      border-radius: 50%;\n",
              "      cursor: pointer;\n",
              "      display: none;\n",
              "      fill: #1967D2;\n",
              "      height: 32px;\n",
              "      padding: 0 0 0 0;\n",
              "      width: 32px;\n",
              "    }\n",
              "\n",
              "    .colab-df-convert:hover {\n",
              "      background-color: #E2EBFA;\n",
              "      box-shadow: 0px 1px 2px rgba(60, 64, 67, 0.3), 0px 1px 3px 1px rgba(60, 64, 67, 0.15);\n",
              "      fill: #174EA6;\n",
              "    }\n",
              "\n",
              "    [theme=dark] .colab-df-convert {\n",
              "      background-color: #3B4455;\n",
              "      fill: #D2E3FC;\n",
              "    }\n",
              "\n",
              "    [theme=dark] .colab-df-convert:hover {\n",
              "      background-color: #434B5C;\n",
              "      box-shadow: 0px 1px 3px 1px rgba(0, 0, 0, 0.15);\n",
              "      filter: drop-shadow(0px 1px 2px rgba(0, 0, 0, 0.3));\n",
              "      fill: #FFFFFF;\n",
              "    }\n",
              "  </style>\n",
              "\n",
              "      <script>\n",
              "        const buttonEl =\n",
              "          document.querySelector('#df-a1b97e88-9010-4c3a-bdf1-326289b6c485 button.colab-df-convert');\n",
              "        buttonEl.style.display =\n",
              "          google.colab.kernel.accessAllowed ? 'block' : 'none';\n",
              "\n",
              "        async function convertToInteractive(key) {\n",
              "          const element = document.querySelector('#df-a1b97e88-9010-4c3a-bdf1-326289b6c485');\n",
              "          const dataTable =\n",
              "            await google.colab.kernel.invokeFunction('convertToInteractive',\n",
              "                                                     [key], {});\n",
              "          if (!dataTable) return;\n",
              "\n",
              "          const docLinkHtml = 'Like what you see? Visit the ' +\n",
              "            '<a target=\"_blank\" href=https://colab.research.google.com/notebooks/data_table.ipynb>data table notebook</a>'\n",
              "            + ' to learn more about interactive tables.';\n",
              "          element.innerHTML = '';\n",
              "          dataTable['output_type'] = 'display_data';\n",
              "          await google.colab.output.renderOutput(dataTable, element);\n",
              "          const docLink = document.createElement('div');\n",
              "          docLink.innerHTML = docLinkHtml;\n",
              "          element.appendChild(docLink);\n",
              "        }\n",
              "      </script>\n",
              "    </div>\n",
              "  </div>\n",
              "  "
            ]
          },
          "metadata": {},
          "execution_count": 226
        }
      ]
    },
    {
      "cell_type": "markdown",
      "source": [
        "Ordenando dados por tempo\n"
      ],
      "metadata": {
        "id": "ZnpjvSh_ItpW"
      }
    },
    {
      "cell_type": "code",
      "source": [
        "df = df.sort_values(by=['openLongTime'])\n",
        "df"
      ],
      "metadata": {
        "colab": {
          "base_uri": "https://localhost:8080/",
          "height": 852
        },
        "id": "D35vprDMIxzH",
        "outputId": "a4c91898-fb4e-4ba5-cfd1-8bdac231a639"
      },
      "execution_count": 227,
      "outputs": [
        {
          "output_type": "execute_result",
          "data": {
            "text/plain": [
              "         symbol interval             openTime     open   openLongTime  \\\n",
              "0      GALAUSDT      15m  13-09-2021 03:00:00  0.02103  1631512800000   \n",
              "1      GALAUSDT      15m  13-09-2021 03:15:00  0.06211  1631513700000   \n",
              "2      GALAUSDT      15m  13-09-2021 03:30:00  0.05732  1631514600000   \n",
              "3      GALAUSDT      15m  13-09-2021 03:45:00  0.06010  1631515500000   \n",
              "4      GALAUSDT      15m  13-09-2021 04:00:00  0.06577  1631516400000   \n",
              "...         ...      ...                  ...      ...            ...   \n",
              "20327  GALAUSDT      15m  12-04-2022 22:45:00  0.20087  1649814300000   \n",
              "20328  GALAUSDT      15m  12-04-2022 23:00:00  0.20167  1649815200000   \n",
              "20329  GALAUSDT      15m  12-04-2022 23:15:00  0.20053  1649816100000   \n",
              "20330  GALAUSDT      15m  12-04-2022 23:30:00  0.20027  1649817000000   \n",
              "20331  GALAUSDT      15m  12-04-2022 23:45:00  0.20190  1649817900000   \n",
              "\n",
              "          high      low    close       volume            closeTime  ...  trix  \\\n",
              "0      0.07805  0.02103  0.06210  718072847.0  13-09-2021 03:14:59  ...   NaN   \n",
              "1      0.06300  0.05263  0.05729  271757398.0  13-09-2021 03:29:59  ...   NaN   \n",
              "2      0.06066  0.05532  0.06011  140632167.0  13-09-2021 03:44:59  ...   NaN   \n",
              "3      0.06884  0.05676  0.06577  301235982.0  13-09-2021 03:59:59  ...   NaN   \n",
              "4      0.07707  0.06562  0.07577  474279842.0  13-09-2021 04:14:59  ...   NaN   \n",
              "...        ...      ...      ...          ...                  ...  ...   ...   \n",
              "20327  0.20174  0.20022  0.20170    2027467.0  12-04-2022 22:59:59  ...   NaN   \n",
              "20328  0.20193  0.20044  0.20052    2628167.0  12-04-2022 23:14:59  ...   NaN   \n",
              "20329  0.20070  0.19970  0.20026    1693040.0  12-04-2022 23:29:59  ...   NaN   \n",
              "20330  0.20246  0.20022  0.20191    2819949.0  12-04-2022 23:44:59  ...   NaN   \n",
              "20331  0.20190  0.20119  0.20122     187039.0  12-04-2022 23:59:59  ...   NaN   \n",
              "\n",
              "       typicalPrice      vwap       ema       wma    williamsR  \\\n",
              "0               NaN  0.100100       NaN       NaN          NaN   \n",
              "1               NaN  0.101678       NaN       NaN          NaN   \n",
              "2               NaN  0.102142       NaN       NaN          NaN   \n",
              "3               NaN  0.103524       NaN       NaN          NaN   \n",
              "4               NaN  0.106329       NaN       NaN          NaN   \n",
              "...             ...       ...       ...       ...          ...   \n",
              "20327           NaN  0.243746  0.067709  0.068820 -2010.284810   \n",
              "20328           NaN  0.243745  0.067321  0.068610 -2168.512658   \n",
              "20329           NaN  0.243745  0.065879  0.067202 -3365.801887   \n",
              "20330           NaN  0.243744  0.064161  0.065353 -3515.217391   \n",
              "20331           NaN  0.243744  0.063749  0.064595 -3399.033816   \n",
              "\n",
              "       ichimokuClound-conversion  ichimokuClound-base  ichimokuClound-spanA  \\\n",
              "0                            NaN                  NaN                   NaN   \n",
              "1                            NaN                  NaN                   NaN   \n",
              "2                            NaN                  NaN                   NaN   \n",
              "3                            NaN                  NaN                   NaN   \n",
              "4                            NaN                  NaN                   NaN   \n",
              "...                          ...                  ...                   ...   \n",
              "20327                    0.20070              0.19894              0.199820   \n",
              "20328                    0.20049              0.19894              0.199715   \n",
              "20329                    0.20049              0.19894              0.199715   \n",
              "20330                    0.20057              0.19948              0.200025   \n",
              "20331                    0.20057              0.19948              0.200025   \n",
              "\n",
              "       ichimokuClound-spanB  \n",
              "0                       NaN  \n",
              "1                       NaN  \n",
              "2                       NaN  \n",
              "3                       NaN  \n",
              "4                       NaN  \n",
              "...                     ...  \n",
              "20327              0.200865  \n",
              "20328              0.200645  \n",
              "20329              0.200435  \n",
              "20330              0.199740  \n",
              "20331              0.199460  \n",
              "\n",
              "[20332 rows x 47 columns]"
            ],
            "text/html": [
              "\n",
              "  <div id=\"df-3cc8e78f-6d8f-48b4-8549-450968697c21\">\n",
              "    <div class=\"colab-df-container\">\n",
              "      <div>\n",
              "<style scoped>\n",
              "    .dataframe tbody tr th:only-of-type {\n",
              "        vertical-align: middle;\n",
              "    }\n",
              "\n",
              "    .dataframe tbody tr th {\n",
              "        vertical-align: top;\n",
              "    }\n",
              "\n",
              "    .dataframe thead th {\n",
              "        text-align: right;\n",
              "    }\n",
              "</style>\n",
              "<table border=\"1\" class=\"dataframe\">\n",
              "  <thead>\n",
              "    <tr style=\"text-align: right;\">\n",
              "      <th></th>\n",
              "      <th>symbol</th>\n",
              "      <th>interval</th>\n",
              "      <th>openTime</th>\n",
              "      <th>open</th>\n",
              "      <th>openLongTime</th>\n",
              "      <th>high</th>\n",
              "      <th>low</th>\n",
              "      <th>close</th>\n",
              "      <th>volume</th>\n",
              "      <th>closeTime</th>\n",
              "      <th>...</th>\n",
              "      <th>trix</th>\n",
              "      <th>typicalPrice</th>\n",
              "      <th>vwap</th>\n",
              "      <th>ema</th>\n",
              "      <th>wma</th>\n",
              "      <th>williamsR</th>\n",
              "      <th>ichimokuClound-conversion</th>\n",
              "      <th>ichimokuClound-base</th>\n",
              "      <th>ichimokuClound-spanA</th>\n",
              "      <th>ichimokuClound-spanB</th>\n",
              "    </tr>\n",
              "  </thead>\n",
              "  <tbody>\n",
              "    <tr>\n",
              "      <th>0</th>\n",
              "      <td>GALAUSDT</td>\n",
              "      <td>15m</td>\n",
              "      <td>13-09-2021 03:00:00</td>\n",
              "      <td>0.02103</td>\n",
              "      <td>1631512800000</td>\n",
              "      <td>0.07805</td>\n",
              "      <td>0.02103</td>\n",
              "      <td>0.06210</td>\n",
              "      <td>718072847.0</td>\n",
              "      <td>13-09-2021 03:14:59</td>\n",
              "      <td>...</td>\n",
              "      <td>NaN</td>\n",
              "      <td>NaN</td>\n",
              "      <td>0.100100</td>\n",
              "      <td>NaN</td>\n",
              "      <td>NaN</td>\n",
              "      <td>NaN</td>\n",
              "      <td>NaN</td>\n",
              "      <td>NaN</td>\n",
              "      <td>NaN</td>\n",
              "      <td>NaN</td>\n",
              "    </tr>\n",
              "    <tr>\n",
              "      <th>1</th>\n",
              "      <td>GALAUSDT</td>\n",
              "      <td>15m</td>\n",
              "      <td>13-09-2021 03:15:00</td>\n",
              "      <td>0.06211</td>\n",
              "      <td>1631513700000</td>\n",
              "      <td>0.06300</td>\n",
              "      <td>0.05263</td>\n",
              "      <td>0.05729</td>\n",
              "      <td>271757398.0</td>\n",
              "      <td>13-09-2021 03:29:59</td>\n",
              "      <td>...</td>\n",
              "      <td>NaN</td>\n",
              "      <td>NaN</td>\n",
              "      <td>0.101678</td>\n",
              "      <td>NaN</td>\n",
              "      <td>NaN</td>\n",
              "      <td>NaN</td>\n",
              "      <td>NaN</td>\n",
              "      <td>NaN</td>\n",
              "      <td>NaN</td>\n",
              "      <td>NaN</td>\n",
              "    </tr>\n",
              "    <tr>\n",
              "      <th>2</th>\n",
              "      <td>GALAUSDT</td>\n",
              "      <td>15m</td>\n",
              "      <td>13-09-2021 03:30:00</td>\n",
              "      <td>0.05732</td>\n",
              "      <td>1631514600000</td>\n",
              "      <td>0.06066</td>\n",
              "      <td>0.05532</td>\n",
              "      <td>0.06011</td>\n",
              "      <td>140632167.0</td>\n",
              "      <td>13-09-2021 03:44:59</td>\n",
              "      <td>...</td>\n",
              "      <td>NaN</td>\n",
              "      <td>NaN</td>\n",
              "      <td>0.102142</td>\n",
              "      <td>NaN</td>\n",
              "      <td>NaN</td>\n",
              "      <td>NaN</td>\n",
              "      <td>NaN</td>\n",
              "      <td>NaN</td>\n",
              "      <td>NaN</td>\n",
              "      <td>NaN</td>\n",
              "    </tr>\n",
              "    <tr>\n",
              "      <th>3</th>\n",
              "      <td>GALAUSDT</td>\n",
              "      <td>15m</td>\n",
              "      <td>13-09-2021 03:45:00</td>\n",
              "      <td>0.06010</td>\n",
              "      <td>1631515500000</td>\n",
              "      <td>0.06884</td>\n",
              "      <td>0.05676</td>\n",
              "      <td>0.06577</td>\n",
              "      <td>301235982.0</td>\n",
              "      <td>13-09-2021 03:59:59</td>\n",
              "      <td>...</td>\n",
              "      <td>NaN</td>\n",
              "      <td>NaN</td>\n",
              "      <td>0.103524</td>\n",
              "      <td>NaN</td>\n",
              "      <td>NaN</td>\n",
              "      <td>NaN</td>\n",
              "      <td>NaN</td>\n",
              "      <td>NaN</td>\n",
              "      <td>NaN</td>\n",
              "      <td>NaN</td>\n",
              "    </tr>\n",
              "    <tr>\n",
              "      <th>4</th>\n",
              "      <td>GALAUSDT</td>\n",
              "      <td>15m</td>\n",
              "      <td>13-09-2021 04:00:00</td>\n",
              "      <td>0.06577</td>\n",
              "      <td>1631516400000</td>\n",
              "      <td>0.07707</td>\n",
              "      <td>0.06562</td>\n",
              "      <td>0.07577</td>\n",
              "      <td>474279842.0</td>\n",
              "      <td>13-09-2021 04:14:59</td>\n",
              "      <td>...</td>\n",
              "      <td>NaN</td>\n",
              "      <td>NaN</td>\n",
              "      <td>0.106329</td>\n",
              "      <td>NaN</td>\n",
              "      <td>NaN</td>\n",
              "      <td>NaN</td>\n",
              "      <td>NaN</td>\n",
              "      <td>NaN</td>\n",
              "      <td>NaN</td>\n",
              "      <td>NaN</td>\n",
              "    </tr>\n",
              "    <tr>\n",
              "      <th>...</th>\n",
              "      <td>...</td>\n",
              "      <td>...</td>\n",
              "      <td>...</td>\n",
              "      <td>...</td>\n",
              "      <td>...</td>\n",
              "      <td>...</td>\n",
              "      <td>...</td>\n",
              "      <td>...</td>\n",
              "      <td>...</td>\n",
              "      <td>...</td>\n",
              "      <td>...</td>\n",
              "      <td>...</td>\n",
              "      <td>...</td>\n",
              "      <td>...</td>\n",
              "      <td>...</td>\n",
              "      <td>...</td>\n",
              "      <td>...</td>\n",
              "      <td>...</td>\n",
              "      <td>...</td>\n",
              "      <td>...</td>\n",
              "      <td>...</td>\n",
              "    </tr>\n",
              "    <tr>\n",
              "      <th>20327</th>\n",
              "      <td>GALAUSDT</td>\n",
              "      <td>15m</td>\n",
              "      <td>12-04-2022 22:45:00</td>\n",
              "      <td>0.20087</td>\n",
              "      <td>1649814300000</td>\n",
              "      <td>0.20174</td>\n",
              "      <td>0.20022</td>\n",
              "      <td>0.20170</td>\n",
              "      <td>2027467.0</td>\n",
              "      <td>12-04-2022 22:59:59</td>\n",
              "      <td>...</td>\n",
              "      <td>NaN</td>\n",
              "      <td>NaN</td>\n",
              "      <td>0.243746</td>\n",
              "      <td>0.067709</td>\n",
              "      <td>0.068820</td>\n",
              "      <td>-2010.284810</td>\n",
              "      <td>0.20070</td>\n",
              "      <td>0.19894</td>\n",
              "      <td>0.199820</td>\n",
              "      <td>0.200865</td>\n",
              "    </tr>\n",
              "    <tr>\n",
              "      <th>20328</th>\n",
              "      <td>GALAUSDT</td>\n",
              "      <td>15m</td>\n",
              "      <td>12-04-2022 23:00:00</td>\n",
              "      <td>0.20167</td>\n",
              "      <td>1649815200000</td>\n",
              "      <td>0.20193</td>\n",
              "      <td>0.20044</td>\n",
              "      <td>0.20052</td>\n",
              "      <td>2628167.0</td>\n",
              "      <td>12-04-2022 23:14:59</td>\n",
              "      <td>...</td>\n",
              "      <td>NaN</td>\n",
              "      <td>NaN</td>\n",
              "      <td>0.243745</td>\n",
              "      <td>0.067321</td>\n",
              "      <td>0.068610</td>\n",
              "      <td>-2168.512658</td>\n",
              "      <td>0.20049</td>\n",
              "      <td>0.19894</td>\n",
              "      <td>0.199715</td>\n",
              "      <td>0.200645</td>\n",
              "    </tr>\n",
              "    <tr>\n",
              "      <th>20329</th>\n",
              "      <td>GALAUSDT</td>\n",
              "      <td>15m</td>\n",
              "      <td>12-04-2022 23:15:00</td>\n",
              "      <td>0.20053</td>\n",
              "      <td>1649816100000</td>\n",
              "      <td>0.20070</td>\n",
              "      <td>0.19970</td>\n",
              "      <td>0.20026</td>\n",
              "      <td>1693040.0</td>\n",
              "      <td>12-04-2022 23:29:59</td>\n",
              "      <td>...</td>\n",
              "      <td>NaN</td>\n",
              "      <td>NaN</td>\n",
              "      <td>0.243745</td>\n",
              "      <td>0.065879</td>\n",
              "      <td>0.067202</td>\n",
              "      <td>-3365.801887</td>\n",
              "      <td>0.20049</td>\n",
              "      <td>0.19894</td>\n",
              "      <td>0.199715</td>\n",
              "      <td>0.200435</td>\n",
              "    </tr>\n",
              "    <tr>\n",
              "      <th>20330</th>\n",
              "      <td>GALAUSDT</td>\n",
              "      <td>15m</td>\n",
              "      <td>12-04-2022 23:30:00</td>\n",
              "      <td>0.20027</td>\n",
              "      <td>1649817000000</td>\n",
              "      <td>0.20246</td>\n",
              "      <td>0.20022</td>\n",
              "      <td>0.20191</td>\n",
              "      <td>2819949.0</td>\n",
              "      <td>12-04-2022 23:44:59</td>\n",
              "      <td>...</td>\n",
              "      <td>NaN</td>\n",
              "      <td>NaN</td>\n",
              "      <td>0.243744</td>\n",
              "      <td>0.064161</td>\n",
              "      <td>0.065353</td>\n",
              "      <td>-3515.217391</td>\n",
              "      <td>0.20057</td>\n",
              "      <td>0.19948</td>\n",
              "      <td>0.200025</td>\n",
              "      <td>0.199740</td>\n",
              "    </tr>\n",
              "    <tr>\n",
              "      <th>20331</th>\n",
              "      <td>GALAUSDT</td>\n",
              "      <td>15m</td>\n",
              "      <td>12-04-2022 23:45:00</td>\n",
              "      <td>0.20190</td>\n",
              "      <td>1649817900000</td>\n",
              "      <td>0.20190</td>\n",
              "      <td>0.20119</td>\n",
              "      <td>0.20122</td>\n",
              "      <td>187039.0</td>\n",
              "      <td>12-04-2022 23:59:59</td>\n",
              "      <td>...</td>\n",
              "      <td>NaN</td>\n",
              "      <td>NaN</td>\n",
              "      <td>0.243744</td>\n",
              "      <td>0.063749</td>\n",
              "      <td>0.064595</td>\n",
              "      <td>-3399.033816</td>\n",
              "      <td>0.20057</td>\n",
              "      <td>0.19948</td>\n",
              "      <td>0.200025</td>\n",
              "      <td>0.199460</td>\n",
              "    </tr>\n",
              "  </tbody>\n",
              "</table>\n",
              "<p>20332 rows × 47 columns</p>\n",
              "</div>\n",
              "      <button class=\"colab-df-convert\" onclick=\"convertToInteractive('df-3cc8e78f-6d8f-48b4-8549-450968697c21')\"\n",
              "              title=\"Convert this dataframe to an interactive table.\"\n",
              "              style=\"display:none;\">\n",
              "        \n",
              "  <svg xmlns=\"http://www.w3.org/2000/svg\" height=\"24px\"viewBox=\"0 0 24 24\"\n",
              "       width=\"24px\">\n",
              "    <path d=\"M0 0h24v24H0V0z\" fill=\"none\"/>\n",
              "    <path d=\"M18.56 5.44l.94 2.06.94-2.06 2.06-.94-2.06-.94-.94-2.06-.94 2.06-2.06.94zm-11 1L8.5 8.5l.94-2.06 2.06-.94-2.06-.94L8.5 2.5l-.94 2.06-2.06.94zm10 10l.94 2.06.94-2.06 2.06-.94-2.06-.94-.94-2.06-.94 2.06-2.06.94z\"/><path d=\"M17.41 7.96l-1.37-1.37c-.4-.4-.92-.59-1.43-.59-.52 0-1.04.2-1.43.59L10.3 9.45l-7.72 7.72c-.78.78-.78 2.05 0 2.83L4 21.41c.39.39.9.59 1.41.59.51 0 1.02-.2 1.41-.59l7.78-7.78 2.81-2.81c.8-.78.8-2.07 0-2.86zM5.41 20L4 18.59l7.72-7.72 1.47 1.35L5.41 20z\"/>\n",
              "  </svg>\n",
              "      </button>\n",
              "      \n",
              "  <style>\n",
              "    .colab-df-container {\n",
              "      display:flex;\n",
              "      flex-wrap:wrap;\n",
              "      gap: 12px;\n",
              "    }\n",
              "\n",
              "    .colab-df-convert {\n",
              "      background-color: #E8F0FE;\n",
              "      border: none;\n",
              "      border-radius: 50%;\n",
              "      cursor: pointer;\n",
              "      display: none;\n",
              "      fill: #1967D2;\n",
              "      height: 32px;\n",
              "      padding: 0 0 0 0;\n",
              "      width: 32px;\n",
              "    }\n",
              "\n",
              "    .colab-df-convert:hover {\n",
              "      background-color: #E2EBFA;\n",
              "      box-shadow: 0px 1px 2px rgba(60, 64, 67, 0.3), 0px 1px 3px 1px rgba(60, 64, 67, 0.15);\n",
              "      fill: #174EA6;\n",
              "    }\n",
              "\n",
              "    [theme=dark] .colab-df-convert {\n",
              "      background-color: #3B4455;\n",
              "      fill: #D2E3FC;\n",
              "    }\n",
              "\n",
              "    [theme=dark] .colab-df-convert:hover {\n",
              "      background-color: #434B5C;\n",
              "      box-shadow: 0px 1px 3px 1px rgba(0, 0, 0, 0.15);\n",
              "      filter: drop-shadow(0px 1px 2px rgba(0, 0, 0, 0.3));\n",
              "      fill: #FFFFFF;\n",
              "    }\n",
              "  </style>\n",
              "\n",
              "      <script>\n",
              "        const buttonEl =\n",
              "          document.querySelector('#df-3cc8e78f-6d8f-48b4-8549-450968697c21 button.colab-df-convert');\n",
              "        buttonEl.style.display =\n",
              "          google.colab.kernel.accessAllowed ? 'block' : 'none';\n",
              "\n",
              "        async function convertToInteractive(key) {\n",
              "          const element = document.querySelector('#df-3cc8e78f-6d8f-48b4-8549-450968697c21');\n",
              "          const dataTable =\n",
              "            await google.colab.kernel.invokeFunction('convertToInteractive',\n",
              "                                                     [key], {});\n",
              "          if (!dataTable) return;\n",
              "\n",
              "          const docLinkHtml = 'Like what you see? Visit the ' +\n",
              "            '<a target=\"_blank\" href=https://colab.research.google.com/notebooks/data_table.ipynb>data table notebook</a>'\n",
              "            + ' to learn more about interactive tables.';\n",
              "          element.innerHTML = '';\n",
              "          dataTable['output_type'] = 'display_data';\n",
              "          await google.colab.output.renderOutput(dataTable, element);\n",
              "          const docLink = document.createElement('div');\n",
              "          docLink.innerHTML = docLinkHtml;\n",
              "          element.appendChild(docLink);\n",
              "        }\n",
              "      </script>\n",
              "    </div>\n",
              "  </div>\n",
              "  "
            ]
          },
          "metadata": {},
          "execution_count": 227
        }
      ]
    },
    {
      "cell_type": "markdown",
      "source": [
        "Verificando quantidade de dados reais nas colunas"
      ],
      "metadata": {
        "id": "QWCT_D7LJDU5"
      }
    },
    {
      "cell_type": "code",
      "source": [
        "df.count()"
      ],
      "metadata": {
        "id": "nsmXGNjCiLvo",
        "outputId": "c115444d-3758-4f6d-d43c-9bcb73f5721c",
        "colab": {
          "base_uri": "https://localhost:8080/"
        }
      },
      "execution_count": 228,
      "outputs": [
        {
          "output_type": "execute_result",
          "data": {
            "text/plain": [
              "symbol                       20332\n",
              "interval                     20332\n",
              "openTime                     20332\n",
              "open                         20332\n",
              "openLongTime                 20332\n",
              "high                         20332\n",
              "low                          20332\n",
              "close                        20332\n",
              "volume                       20332\n",
              "closeTime                    20332\n",
              "closeLongTime                20332\n",
              "numberOfTrades               20332\n",
              "adl                          20332\n",
              "adx                          20305\n",
              "adx-mdi                      20305\n",
              "adx-pdi                      20305\n",
              "atr                          20318\n",
              "awesomeOscillator            20299\n",
              "bb-middle                    20313\n",
              "bb-upper                     20313\n",
              "bb-lower                     20313\n",
              "bb-pb                        20313\n",
              "cci                          20313\n",
              "fi                               0\n",
              "kst                          20288\n",
              "kst-signal                   20280\n",
              "MACD                         20307\n",
              "MACD-signal                  20299\n",
              "MACD-histogram               20299\n",
              "mfi                              0\n",
              "obv                          20331\n",
              "psar                             0\n",
              "roc                           1260\n",
              "rsi                          20318\n",
              "sma                          20324\n",
              "stochastic-k                 20319\n",
              "stochastic-d                 20317\n",
              "trix                             0\n",
              "typicalPrice                     0\n",
              "vwap                         20332\n",
              "ema                          20324\n",
              "wma                          20324\n",
              "williamsR                    20319\n",
              "ichimokuClound-conversion    20281\n",
              "ichimokuClound-base          20281\n",
              "ichimokuClound-spanA         20281\n",
              "ichimokuClound-spanB         20281\n",
              "dtype: int64"
            ]
          },
          "metadata": {},
          "execution_count": 228
        }
      ]
    },
    {
      "cell_type": "markdown",
      "source": [
        "Removendo Coluna com poucos dados \n"
      ],
      "metadata": {
        "id": "SYZdBQi8JPzR"
      }
    },
    {
      "cell_type": "code",
      "source": [
        "df = df.drop(columns=['fi', 'mfi', 'psar', 'roc', 'trix', 'typicalPrice'])\n",
        "\n"
      ],
      "metadata": {
        "id": "jfz9mM9TNH8o"
      },
      "execution_count": 229,
      "outputs": []
    },
    {
      "cell_type": "code",
      "source": [
        "print(len(df))\n"
      ],
      "metadata": {
        "colab": {
          "base_uri": "https://localhost:8080/"
        },
        "id": "AHEujAUBNVj4",
        "outputId": "6bd3e47f-3f0a-4df5-8011-15a1f0a92f8d"
      },
      "execution_count": 230,
      "outputs": [
        {
          "output_type": "stream",
          "name": "stdout",
          "text": [
            "20332\n"
          ]
        }
      ]
    },
    {
      "cell_type": "markdown",
      "source": [
        "Verificando contagem após remoção de colunas desnecessárias"
      ],
      "metadata": {
        "id": "dfJEDcU7JWw2"
      }
    },
    {
      "cell_type": "code",
      "source": [
        "df.count()\n",
        "\n"
      ],
      "metadata": {
        "id": "kcI9TohGJhDo",
        "outputId": "986b4937-5623-4448-c359-edbb118def04",
        "colab": {
          "base_uri": "https://localhost:8080/"
        }
      },
      "execution_count": 231,
      "outputs": [
        {
          "output_type": "execute_result",
          "data": {
            "text/plain": [
              "symbol                       20332\n",
              "interval                     20332\n",
              "openTime                     20332\n",
              "open                         20332\n",
              "openLongTime                 20332\n",
              "high                         20332\n",
              "low                          20332\n",
              "close                        20332\n",
              "volume                       20332\n",
              "closeTime                    20332\n",
              "closeLongTime                20332\n",
              "numberOfTrades               20332\n",
              "adl                          20332\n",
              "adx                          20305\n",
              "adx-mdi                      20305\n",
              "adx-pdi                      20305\n",
              "atr                          20318\n",
              "awesomeOscillator            20299\n",
              "bb-middle                    20313\n",
              "bb-upper                     20313\n",
              "bb-lower                     20313\n",
              "bb-pb                        20313\n",
              "cci                          20313\n",
              "kst                          20288\n",
              "kst-signal                   20280\n",
              "MACD                         20307\n",
              "MACD-signal                  20299\n",
              "MACD-histogram               20299\n",
              "obv                          20331\n",
              "rsi                          20318\n",
              "sma                          20324\n",
              "stochastic-k                 20319\n",
              "stochastic-d                 20317\n",
              "vwap                         20332\n",
              "ema                          20324\n",
              "wma                          20324\n",
              "williamsR                    20319\n",
              "ichimokuClound-conversion    20281\n",
              "ichimokuClound-base          20281\n",
              "ichimokuClound-spanA         20281\n",
              "ichimokuClound-spanB         20281\n",
              "dtype: int64"
            ]
          },
          "metadata": {},
          "execution_count": 231
        }
      ]
    },
    {
      "cell_type": "markdown",
      "source": [
        "1. Definindo alvo e período;\n",
        "2. Criação de lógica para verificação de ganho e de perdas ;\n",
        "3. Percorrer o datafrime verificando os dados; \n",
        "4. Verificação e inserção de dados em uma nova coluna;\n",
        "5. Inserção de uma nova coluna com os novos dados no datafrime "
      ],
      "metadata": {
        "id": "9zIVWGzAJgqv"
      }
    },
    {
      "cell_type": "markdown",
      "source": [
        "Escolha do melhor horizonte Tabela\n",
        "\n",
        "Desempenho em diferentes moedas. (entender qual melhor moeda -assertividade) \n"
      ],
      "metadata": {
        "id": "xPzy1RXYoFT-"
      }
    },
    {
      "cell_type": "markdown",
      "source": [
        "Suavização do dado\n",
        "Limitando a profundidade max da árvore \n",
        "\n"
      ],
      "metadata": {
        "id": "Y4r8APZYzI1s"
      }
    },
    {
      "cell_type": "markdown",
      "source": [
        "Modificar a preedição para uma janela no lugar de um índice \n"
      ],
      "metadata": {
        "id": "qOuDhhs1qXHF"
      }
    },
    {
      "cell_type": "markdown",
      "source": [
        "Plotando o gráfico do fechamento"
      ],
      "metadata": {
        "id": "RVqeWynJewUE"
      }
    },
    {
      "cell_type": "code",
      "source": [
        "df['close'].plot()\n",
        "plt.show()"
      ],
      "metadata": {
        "colab": {
          "base_uri": "https://localhost:8080/",
          "height": 265
        },
        "id": "38gyiaTCemtk",
        "outputId": "1f631491-0bfe-48bd-9588-aed1b70e2105"
      },
      "execution_count": 232,
      "outputs": [
        {
          "output_type": "display_data",
          "data": {
            "text/plain": [
              "<Figure size 432x288 with 1 Axes>"
            ],
            "image/png": "[encoded data removed]"
          },
          "metadata": {
            "needs_background": "light"
          }
        }
      ]
    },
    {
      "cell_type": "markdown",
      "source": [
        "Fechamento após suavização"
      ],
      "metadata": {
        "id": "FczzT1Fuezba"
      }
    },
    {
      "cell_type": "code",
      "source": [
        "rolling = Series.rolling(df['close'],window=32)\n",
        "df['close_mean'] = rolling.mean()\n",
        "df['close_mean'].plot()\n",
        "plt.show()"
      ],
      "metadata": {
        "colab": {
          "base_uri": "https://localhost:8080/",
          "height": 265
        },
        "id": "8L_HRqHjeeYk",
        "outputId": "7fe5d2e1-725f-48eb-b244-1d90fd686d6e"
      },
      "execution_count": 233,
      "outputs": [
        {
          "output_type": "display_data",
          "data": {
            "text/plain": [
              "<Figure size 432x288 with 1 Axes>"
            ],
            "image/png": "[encoded data removed]"
          },
          "metadata": {
            "needs_background": "light"
          }
        }
      ]
    },
    {
      "cell_type": "code",
      "source": [
        "closes = df['close_mean']\n",
        "target = []\n",
        "\n",
        "period_future = 19\n",
        "len_closes = len(closes)\n",
        "\n",
        "for i in range(len_closes):\n",
        "  if i + period_future < len_closes:\n",
        "    if float(closes[i+period_future]) >= (float(closes[i]) * 1.01):\n",
        "      target.append(1)\n",
        "    else:\n",
        "      target.append(0)\n",
        "  else:\n",
        "      target.append(None)\n",
        "\n",
        "df['target'] = target"
      ],
      "metadata": {
        "id": "QN9p0xTzPBOB"
      },
      "execution_count": 234,
      "outputs": []
    },
    {
      "cell_type": "markdown",
      "source": [
        "Verificação do tamanho do datafrime antes da remoção dos valores nulos"
      ],
      "metadata": {
        "id": "UFHV-QHRKjdK"
      }
    },
    {
      "cell_type": "code",
      "source": [
        "print(len(df))"
      ],
      "metadata": {
        "id": "gfPTLHocKXhX",
        "colab": {
          "base_uri": "https://localhost:8080/"
        },
        "outputId": "3ba102ad-be21-43e4-c73c-b152b64fae36"
      },
      "execution_count": 235,
      "outputs": [
        {
          "output_type": "stream",
          "name": "stdout",
          "text": [
            "20332\n"
          ]
        }
      ]
    },
    {
      "cell_type": "code",
      "source": [
        "df['target']"
      ],
      "metadata": {
        "colab": {
          "base_uri": "https://localhost:8080/"
        },
        "id": "WRW8T7qkE37_",
        "outputId": "2767ebbd-233e-4549-eb73-1063eee1a929"
      },
      "execution_count": 236,
      "outputs": [
        {
          "output_type": "execute_result",
          "data": {
            "text/plain": [
              "0        0.0\n",
              "1        0.0\n",
              "2        0.0\n",
              "3        0.0\n",
              "4        0.0\n",
              "        ... \n",
              "20327    NaN\n",
              "20328    NaN\n",
              "20329    NaN\n",
              "20330    NaN\n",
              "20331    NaN\n",
              "Name: target, Length: 20332, dtype: float64"
            ]
          },
          "metadata": {},
          "execution_count": 236
        }
      ]
    },
    {
      "cell_type": "markdown",
      "source": [
        "Remoção dos valores nulos."
      ],
      "metadata": {
        "id": "oYKnFYneKqlq"
      }
    },
    {
      "cell_type": "code",
      "source": [
        "df = df[df['close'].notnull()]\n",
        "df = df[df['volume'].notnull()]\n",
        "df = df[df['MACD'].notnull()]\n",
        "df = df[df['rsi'].notnull()]\n",
        "df = df[df['sma'].notnull()]\n",
        "df = df[df['vwap'].notnull()]\n",
        "df = df[df['obv'].notnull()]\n",
        "df = df[df['ema'].notnull()]\n",
        "df = df[df['wma'].notnull()]\n",
        "df = df[df['target'].notnull()]\n",
        "df = df[df['williamsR'].notnull()]"
      ],
      "metadata": {
        "id": "H6oh4jteRUj7"
      },
      "execution_count": 237,
      "outputs": []
    },
    {
      "cell_type": "markdown",
      "source": [
        "Suavização dos indicadores"
      ],
      "metadata": {
        "id": "WaRlY1u9fE5a"
      }
    },
    {
      "cell_type": "code",
      "source": [
        "window = 15\n",
        "\n",
        "rolling = Series.rolling(df['rsi'],window)\n",
        "df['rsi_mean'] = rolling.mean()\n",
        "\n",
        "rolling = Series.rolling(df['sma'],window)\n",
        "df['sma_mean'] = rolling.mean()\n",
        "\n",
        "rolling = Series.rolling(df['vwap'],window)\n",
        "df['vwap_mean'] = rolling.mean()\n",
        "\n",
        "rolling = Series.rolling(df['close'],window)\n",
        "df['close_mean'] = rolling.mean()\n",
        "\n",
        "rolling = Series.rolling(df['sma'],window)\n",
        "df['volume_mean'] = rolling.mean()\n",
        "\n",
        "rolling = Series.rolling(df['MACD'],window)\n",
        "df['MACD_mean'] = rolling.mean()\n",
        "\n",
        "rolling = Series.rolling(df['obv'],window)\n",
        "df['obv_mean'] = rolling.mean()\n",
        "\n",
        "rolling = Series.rolling(df['ema'],window)\n",
        "df['ema_mean'] = rolling.mean()\n",
        "\n",
        "rolling = Series.rolling(df['wma'],window)\n",
        "df['wma_mean'] = rolling.mean()\n",
        "\n",
        "rolling = Series.rolling(df['target'],window)\n",
        "df['target_mean'] = rolling.mean()\n",
        "\n",
        "rolling = Series.rolling(df['williamsR'],window)\n",
        "df['williamsR_mean'] = rolling.mean()\n"
      ],
      "metadata": {
        "id": "9ld3oaUUfByU"
      },
      "execution_count": 238,
      "outputs": []
    },
    {
      "cell_type": "code",
      "source": [
        "df = df[df['close_mean'].notnull()]\n",
        "df = df[df['volume_mean'].notnull()]\n",
        "df = df[df['MACD_mean'].notnull()]\n",
        "df = df[df['rsi_mean'].notnull()]\n",
        "df = df[df['sma_mean'].notnull()]\n",
        "df = df[df['vwap_mean'].notnull()]\n",
        "df = df[df['obv_mean'].notnull()]\n",
        "df = df[df['ema_mean'].notnull()]\n",
        "df = df[df['wma_mean'].notnull()]\n",
        "df = df[df['target_mean'].notnull()]\n",
        "df = df[df['williamsR_mean'].notnull()]"
      ],
      "metadata": {
        "id": "mpcxy5qAgCI1"
      },
      "execution_count": 239,
      "outputs": []
    },
    {
      "cell_type": "markdown",
      "source": [
        "Verificação do tamanho do datafrime após remoção dos nulos "
      ],
      "metadata": {
        "id": "oOSSjBfgKyJU"
      }
    },
    {
      "cell_type": "code",
      "source": [
        "print(len(df))"
      ],
      "metadata": {
        "id": "8GpFgpB9K7Bq",
        "colab": {
          "base_uri": "https://localhost:8080/"
        },
        "outputId": "34c61449-1a73-42a6-e7c8-fe8780882313"
      },
      "execution_count": 240,
      "outputs": [
        {
          "output_type": "stream",
          "name": "stdout",
          "text": [
            "20274\n"
          ]
        }
      ]
    },
    {
      "cell_type": "markdown",
      "source": [
        "Divisão do df para treino e test"
      ],
      "metadata": {
        "id": "cmtp2yw7LBno"
      }
    },
    {
      "cell_type": "code",
      "source": [
        "split_df = int(len(df) * 0.70)   \n",
        "\n",
        "df_train = df.iloc[:split_df,:]\n",
        "df_test = df.iloc[split_df:,:]   \n",
        "\n",
        "print('tamanho df treino: ' + str(len(df_train)))\n",
        "print('tamanho df teste: ' + str(len(df_test)))\n",
        "print(len(df_train)+len(df_test) == len(df))\n"
      ],
      "metadata": {
        "colab": {
          "base_uri": "https://localhost:8080/"
        },
        "id": "Cr5AvA3gaCjf",
        "outputId": "b71216fb-6e92-4501-a14b-d3920c2af6dd"
      },
      "execution_count": 241,
      "outputs": [
        {
          "output_type": "stream",
          "name": "stdout",
          "text": [
            "tamanho df treino: 14191\n",
            "tamanho df teste: 6083\n",
            "True\n"
          ]
        }
      ]
    },
    {
      "cell_type": "markdown",
      "metadata": {
        "id": "ExhbHQJ8TBve"
      },
      "source": [
        "## Escolha dos algoritmos de aprendizagem de máquina\n",
        "\n",
        "* AdaBoost  \n",
        "* RandomForest  \n",
        "* GradientBoosting  "
      ]
    },
    {
      "cell_type": "markdown",
      "source": [
        "Catboost || rede neural - mlp\n"
      ],
      "metadata": {
        "id": "hPtg5kIBpSRL"
      }
    },
    {
      "cell_type": "markdown",
      "metadata": {
        "id": "luvH_FhqTBve"
      },
      "source": [
        "## Importando algoritmos de aprendizagem de máquina"
      ]
    },
    {
      "cell_type": "markdown",
      "source": [
        "variar param random florest - max-leaf-nodes\n"
      ],
      "metadata": {
        "id": "XrnsTKFEorlq"
      }
    },
    {
      "cell_type": "code",
      "metadata": {
        "id": "7OiDCPNRTBvh"
      },
      "source": [
        "from sklearn.ensemble import RandomForestClassifier, GradientBoostingClassifier, AdaBoostClassifier\n",
        "from sklearn.model_selection import GridSearchCV\n",
        "\n",
        "ada_clf = AdaBoostClassifier()\n",
        "rf_clf = RandomForestClassifier()\n",
        "grad_clf = GradientBoostingClassifier()\n"
      ],
      "execution_count": 242,
      "outputs": []
    },
    {
      "cell_type": "markdown",
      "metadata": {
        "id": "vHwJ1k6H2w8K"
      },
      "source": [
        "### Funções para predição."
      ]
    },
    {
      "cell_type": "markdown",
      "source": [
        "Verifica a possibilidade de impor restrições ao modelo. (API - fit:) \n",
        "mexer na quantidade de hiper-parametros "
      ],
      "metadata": {
        "id": "y__BBLOqzgFQ"
      }
    },
    {
      "cell_type": "code",
      "metadata": {
        "id": "K1wBYyb4gb41"
      },
      "source": [
        "def prediction_features(clf,target, dataFrame, features):\n",
        "    param_grid = {}\n",
        "    grid= GridSearchCV(clf, param_grid=param_grid, verbose=1, cv=5)\n",
        "\n",
        "    grid.fit(dataFrame[features],dataFrame[target])\n",
        "    clf.fit(dataFrame[features],dataFrame[target])\n",
        "    print('resultado do algoritmo: ')\n",
        "    print(grid.best_score_)\n",
        "    print('features importantes:')\n",
        "    print(clf.feature_importances_)\n",
        "    return grid.best_score_, clf.feature_importances_\n",
        "    \n"
      ],
      "execution_count": 243,
      "outputs": []
    },
    {
      "cell_type": "markdown",
      "metadata": {
        "id": "OdeqCNn620cp"
      },
      "source": [
        "## Treinando algoritmos com features não tratadas\n"
      ]
    },
    {
      "cell_type": "markdown",
      "source": [
        "Suavização de todos as features de entrada"
      ],
      "metadata": {
        "id": "6xC2glrq0jEA"
      }
    },
    {
      "cell_type": "code",
      "metadata": {
        "id": "fOcKx-ABg59v"
      },
      "source": [
        "feature_train = [ \n",
        "'volume_mean',\n",
        "'MACD_mean',\n",
        "'close_mean',\n",
        "'rsi_mean',\n",
        "'sma_mean',\n",
        "'vwap_mean',\n",
        "'obv_mean',\n",
        "'ema_mean',\n",
        "'wma_mean',\n",
        "'williamsR_mean'\n",
        "# 'bb-middle',        \n",
        "# 'bb-upper',         \n",
        "# 'bb-lower',         \n",
        "# 'bb-pb',            \n",
        "# 'cci'  \n",
        "]"
      ],
      "execution_count": 244,
      "outputs": []
    },
    {
      "cell_type": "code",
      "source": [
        "ada_results_1,ada_features_1 = prediction_features(ada_clf, 'target', df_train, feature_train)"
      ],
      "metadata": {
        "colab": {
          "base_uri": "https://localhost:8080/"
        },
        "id": "ER32oj7ZejNM",
        "outputId": "023a503d-61f9-4013-e7c7-376d58802ae2"
      },
      "execution_count": 245,
      "outputs": [
        {
          "output_type": "stream",
          "name": "stdout",
          "text": [
            "Fitting 5 folds for each of 1 candidates, totalling 5 fits\n",
            "resultado do algoritmo: \n",
            "0.6206846597812955\n",
            "features importantes:\n",
            "[0.06 0.12 0.02 0.28 0.06 0.22 0.08 0.06 0.04 0.06]\n"
          ]
        }
      ]
    },
    {
      "cell_type": "code",
      "source": [
        "rf_results_1,rf_features_1 = prediction_features(rf_clf, 'target', df_train, feature_train)"
      ],
      "metadata": {
        "colab": {
          "base_uri": "https://localhost:8080/"
        },
        "id": "kMjMeEF7fqMc",
        "outputId": "37d82093-35dd-4985-daaf-37e476d11a7a"
      },
      "execution_count": 246,
      "outputs": [
        {
          "output_type": "stream",
          "name": "stdout",
          "text": [
            "Fitting 5 folds for each of 1 candidates, totalling 5 fits\n",
            "resultado do algoritmo: \n",
            "0.6084891775955613\n",
            "features importantes:\n",
            "[0.06586126 0.15664207 0.05874214 0.28396723 0.06465431 0.09375316\n",
            " 0.07491232 0.07022367 0.06731865 0.06392518]\n"
          ]
        }
      ]
    },
    {
      "cell_type": "code",
      "source": [
        "grad_results_1,grad_features_1 = prediction_features(grad_clf, 'target', df_train, feature_train)"
      ],
      "metadata": {
        "colab": {
          "base_uri": "https://localhost:8080/"
        },
        "id": "8Nn2Zo0IgYtp",
        "outputId": "094fb7e8-a90c-4836-9458-8989ee865913"
      },
      "execution_count": 247,
      "outputs": [
        {
          "output_type": "stream",
          "name": "stdout",
          "text": [
            "Fitting 5 folds for each of 1 candidates, totalling 5 fits\n",
            "resultado do algoritmo: \n",
            "0.6408348580788926\n",
            "features importantes:\n",
            "[0.02038806 0.05142546 0.01488094 0.67367474 0.02788977 0.07627601\n",
            " 0.04707206 0.02351216 0.02987794 0.03500286]\n"
          ]
        }
      ]
    },
    {
      "cell_type": "code",
      "source": [
        "def formater_porcent(value):\n",
        "    return float(( \"%.2f\" % (float(value) * 100)))"
      ],
      "metadata": {
        "id": "cltUJrpjL5oj"
      },
      "execution_count": 248,
      "outputs": []
    },
    {
      "cell_type": "markdown",
      "source": [
        "Treino"
      ],
      "metadata": {
        "id": "UGXZeVr1JZG5"
      }
    },
    {
      "cell_type": "code",
      "source": [
        "ADABOOST = 'ada'\n",
        "RANDOMFOREST = 'rf'\n",
        "GRADIENTBOOST = 'grad'\n",
        "\n",
        "def validation_predict(clf, param_grid, df_train, df_test, features, target, nome_clf):\n",
        "    \n",
        "    print(nome_clf + ': ' + target)\n",
        "    \n",
        "    grid= GridSearchCV(clf, param_grid, verbose=1, cv=5)\n",
        "    grid.fit(df_train[features],df_train[target])\n",
        "\n",
        "    grid.best_score_\n",
        "    p = grid.predict(df_test[features])\n",
        "\n",
        "    new_column = nome_clf+'_'+target+'_predict'\n",
        "    df_test[new_column] = p\n",
        "\n",
        "    confusion_matrix = pd.crosstab(df_test[target], df_test[new_column], rownames=['Actual'], colnames=['Predicted'])\n",
        "    sn.heatmap(confusion_matrix, annot=True)\n",
        "    plt.show()    \n",
        "\n",
        "    hits = df_test[df_test[new_column] == df_test[target]]\n",
        "    print('Resultado do algoritmo: ')\n",
        "    print(float(len(hits))/len(df_test))\n",
        "    return formater_porcent(float(len(hits))/len(df_test))"
      ],
      "metadata": {
        "id": "WpvUigq-JYIX"
      },
      "execution_count": 249,
      "outputs": []
    },
    {
      "cell_type": "markdown",
      "source": [
        "Testanto RF"
      ],
      "metadata": {
        "id": "WaY7gYieK1zY"
      }
    },
    {
      "cell_type": "code",
      "source": [
        "features = [ \n",
        "'volume_mean',\n",
        "'MACD_mean',\n",
        "'close_mean',\n",
        "'rsi_mean',\n",
        "'sma_mean',\n",
        "'vwap_mean',\n",
        "'obv_mean',\n",
        "'ema_mean',\n",
        "'wma_mean',\n",
        "'williamsR_mean',\n",
        "# 'bb-middle',        \n",
        "# 'bb-upper',         \n",
        "# 'bb-lower',         \n",
        "# 'bb-pb',            \n",
        "# 'cci',              \n",
        "]\n"
      ],
      "metadata": {
        "id": "-C5TJyanNOY9"
      },
      "execution_count": 250,
      "outputs": []
    },
    {
      "cell_type": "code",
      "source": [
        "rf_param_grid ={'n_estimators': list(range(1,11)), \n",
        "            'max_depth': [2],\n",
        "            'min_samples_leaf': [1],\n",
        "            'min_weight_fraction_leaf': np.arange(0.1, 0.5, 0.1),\n",
        "            'n_jobs': [1],\n",
        "            'random_state': [10],\n",
        "            'verbose': [0]}\n",
        "\n",
        "\n",
        "validation_predict(rf_clf, rf_param_grid, df_train, df_test, features, 'target', 'RANDOMFOREST')\n"
      ],
      "metadata": {
        "id": "ardcpd2UJfCw",
        "colab": {
          "base_uri": "https://localhost:8080/",
          "height": 481
        },
        "outputId": "0de91a4b-6277-49a4-bc10-e428a46defe3"
      },
      "execution_count": 251,
      "outputs": [
        {
          "output_type": "stream",
          "name": "stdout",
          "text": [
            "RANDOMFOREST: target\n",
            "Fitting 5 folds for each of 40 candidates, totalling 200 fits\n"
          ]
        },
        {
          "output_type": "stream",
          "name": "stderr",
          "text": [
            "/usr/local/lib/python3.7/dist-packages/ipykernel_launcher.py:16: SettingWithCopyWarning: \n",
            "A value is trying to be set on a copy of a slice from a DataFrame.\n",
            "Try using .loc[row_indexer,col_indexer] = value instead\n",
            "\n",
            "See the caveats in the documentation: https://pandas.pydata.org/pandas-docs/stable/user_guide/indexing.html#returning-a-view-versus-a-copy\n",
            "  app.launch_new_instance()\n"
          ]
        },
        {
          "output_type": "display_data",
          "data": {
            "text/plain": [
              "<Figure size 432x288 with 2 Axes>"
            ],
            "image/png": "[encoded data removed]"
          },
          "metadata": {
            "needs_background": "light"
          }
        },
        {
          "output_type": "stream",
          "name": "stdout",
          "text": [
            "Resultado do algoritmo: \n",
            "0.7974683544303798\n"
          ]
        },
        {
          "output_type": "execute_result",
          "data": {
            "text/plain": [
              "79.75"
            ]
          },
          "metadata": {},
          "execution_count": 251
        }
      ]
    },
    {
      "cell_type": "markdown",
      "source": [
        "Testando ADA"
      ],
      "metadata": {
        "id": "tjWe1gLgMweW"
      }
    },
    {
      "cell_type": "code",
      "source": [
        "ada_param_grid ={'n_estimators': [160], \n",
        "             'learning_rate': [0.09],\n",
        "            'random_state': [1]}\n",
        "            \n",
        "validation_predict(ada_clf, ada_param_grid, df_train, df_test, features,'target', 'ADABOOST')"
      ],
      "metadata": {
        "id": "TZL2KbJ0MzTn",
        "colab": {
          "base_uri": "https://localhost:8080/",
          "height": 482
        },
        "outputId": "41125912-e16c-4df8-ff3a-42c891ad8807"
      },
      "execution_count": 252,
      "outputs": [
        {
          "output_type": "stream",
          "name": "stdout",
          "text": [
            "ADABOOST: target\n",
            "Fitting 5 folds for each of 1 candidates, totalling 5 fits\n"
          ]
        },
        {
          "output_type": "stream",
          "name": "stderr",
          "text": [
            "/usr/local/lib/python3.7/dist-packages/ipykernel_launcher.py:16: SettingWithCopyWarning: \n",
            "A value is trying to be set on a copy of a slice from a DataFrame.\n",
            "Try using .loc[row_indexer,col_indexer] = value instead\n",
            "\n",
            "See the caveats in the documentation: https://pandas.pydata.org/pandas-docs/stable/user_guide/indexing.html#returning-a-view-versus-a-copy\n",
            "  app.launch_new_instance()\n"
          ]
        },
        {
          "output_type": "display_data",
          "data": {
            "text/plain": [
              "<Figure size 432x288 with 2 Axes>"
            ],
            "image/png": "[encoded data removed]"
          },
          "metadata": {
            "needs_background": "light"
          }
        },
        {
          "output_type": "stream",
          "name": "stdout",
          "text": [
            "Resultado do algoritmo: \n",
            "0.8237711655433174\n"
          ]
        },
        {
          "output_type": "execute_result",
          "data": {
            "text/plain": [
              "82.38"
            ]
          },
          "metadata": {},
          "execution_count": 252
        }
      ]
    },
    {
      "cell_type": "code",
      "source": [
        "grad_param_grid ={'loss': ['deviance'], \n",
        "            'learning_rate': [0.09],\n",
        "            'n_estimators': [150],\n",
        "            'max_depth': [1],\n",
        "            'min_samples_leaf': [5],\n",
        "            'verbose': [0],\n",
        "            'random_state': [1]}\n",
        "\n",
        "validation_predict(grad_clf, grad_param_grid, df_train, df_test, features, 'target', 'GRADIENTBOOST')"
      ],
      "metadata": {
        "id": "iYHYf1CINT8V",
        "colab": {
          "base_uri": "https://localhost:8080/",
          "height": 483
        },
        "outputId": "38a59db6-52d4-48e0-9393-921f8a9c6d28"
      },
      "execution_count": 253,
      "outputs": [
        {
          "output_type": "stream",
          "name": "stdout",
          "text": [
            "GRADIENTBOOST: target\n",
            "Fitting 5 folds for each of 1 candidates, totalling 5 fits\n"
          ]
        },
        {
          "output_type": "stream",
          "name": "stderr",
          "text": [
            "/usr/local/lib/python3.7/dist-packages/ipykernel_launcher.py:16: SettingWithCopyWarning: \n",
            "A value is trying to be set on a copy of a slice from a DataFrame.\n",
            "Try using .loc[row_indexer,col_indexer] = value instead\n",
            "\n",
            "See the caveats in the documentation: https://pandas.pydata.org/pandas-docs/stable/user_guide/indexing.html#returning-a-view-versus-a-copy\n",
            "  app.launch_new_instance()\n"
          ]
        },
        {
          "output_type": "display_data",
          "data": {
            "text/plain": [
              "<Figure size 432x288 with 2 Axes>"
            ],
            "image/png": "[encoded data removed]"
          },
          "metadata": {
            "needs_background": "light"
          }
        },
        {
          "output_type": "stream",
          "name": "stdout",
          "text": [
            "Resultado do algoritmo: \n",
            "0.8259082689462436\n"
          ]
        },
        {
          "output_type": "execute_result",
          "data": {
            "text/plain": [
              "82.59"
            ]
          },
          "metadata": {},
          "execution_count": 253
        }
      ]
    }
  ]
}